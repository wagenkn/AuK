{
 "cells": [
  {
   "cell_type": "markdown",
   "metadata": {
    "collapsed": true
   },
   "source": [
    "# Graphen\n",
    "\n",
    "## Motivation und Definition\n",
    "\n",
    "Die Graphentheorie hat sich seit langem als Teilgebiet der Mathematik etabliert.\n",
    "\n",
    "*Graphen* eignen sich hervorragend zur Modellierung realer Systeme und von Prozessen. Die Abbildung von Straßennetzen in Navigationssystemen, von Netzwerken in Routern und Freundschaftsbeziehungen in sozialen Netzen sind nur einige Anwendungsbeispiele. Graphen für Überführungsfunktionen abstrakter Automaten stellen deren Verhalten, wenn Zustandswechsel ausgelöst werden, sehr anschaulich dar.\n",
    "\n",
    "Ein Graph $G=(V,E)$ besteht aus einer Menge $V$ (vertex) von *Knoten* (Ecken) und einer Menge $E$ (edge) von Kanten, die je zwei *adjazente* (benachbarte) Knoten verbinden. Eine Kante die die Knoten $i$ und $j$ verbindet, wird als Zweiermenge $\\{i, j\\}$ bzw. als ein geordnetes Paar $(i, j)$ notiert.\n",
    "Man sagt, eine Kante *inzidiert* mit den beiden Knoten, die sie verbindet. Prinzipiell sind auch mehrere parallele Kanten zwischen je zwei Knoten und reflexive Kanten (Schlinge: Kante von einem Knoten zu sich selbst) möglich. Diese Formen betrachten wir hier jedoch nicht. Der Grad eines Knotens ergibt sich aus der Anzahl der inzidierenden Kanten.\n",
    "\n",
    "In der Informatik ist ein Graph ein abstrakter Datentyp (ADT), der die mathematische Definition geeignet abbildet. Im Folgenden werden wir nur Graphen betrachten, die (zwischen zwei beliebigen, nicht notwendigerweise verschiedenen Knoten) keine Mehrfachkanten besitzen. \n",
    "\n",
    "<!-- Bei der Darstellung eines Graphen spielt die Art und Weise, wie die Kanten gezeichnet werden, keine Rolle. Entscheidend ist lediglich die Menge der Knoten und die Menge der Kanten, die die Knoten verbinden. Zwei unterschiedlich dargestellte Graphen mit den gleichen Knoten und Kanten werden als isomorphe Graphen bezeichnet. In der Regel betrachtet man isomorphe Graphen als äquivalente Graphen. -->\n",
    "\n",
    "## Arten von Graphen\n",
    "\n",
    "### Ungerichteter Graph\n",
    "\n",
    "Bei einem ungerichteten Graphen wird die Richtung der Kanten nicht berücksichtigt, d.h. eine Kante $\\{i, j\\}$ bedeutet eine Direktverbindung vom Knoten $i$ zum Knoten $j$, als auch eine Direktverbindung von $j$ zu $i$. Somit gilt $(i, j) = (j, i)$.\n",
    "\n",
    "Ein **Weg** ist eine Knotenfolge, die jeden Knoten aus $|V|$ höchstens einmal enthält.\n",
    "\n",
    "__Beispiel:__ Ungerichteter Graph mit $V = \\{0,1,2,3,4\\}$ und $E = \\{\\{0,1\\},\\{0,4\\},\\{1,2\\},\\{1,3\\},\\{1,4\\},\\{2,3\\},\\{3,4\\}\\}$:\n",
    "\n",
    "<img src=\"https://www.geeksforgeeks.org/wp-content/uploads/undirectedgraph.png\" width=\"400\">\n",
    "\n",
    "Die Kanten eines ungerichteten Graphen werden als einfache Verbindungslinien, d.h. Strecken oder Bögen zwischen je zwei Knoten, dargestellt. \n",
    "\n",
    "### Gerichteter Graph\n",
    "\n",
    "Bei einem gerichteten Graphen wird die Richtung der Kante berücksichtigt und durch einen Pfeil symbolisiert.\n",
    "Eine gegebene Kante $(i, j)$ besagt lediglich, dass es einen Weg von $i$ nach $j$ gibt; nicht automatisch auch von $j$ nach $i$.\n",
    "\n",
    "__Beispiel:__ Gerichteter Graph mit $V = \\{A,B,C,D,E,F\\}$ und $E = \\{(A,B),(B,C),(C,E),(D,B),(E,D),(E,F)\\}$:\n",
    "\n",
    "<img src=\"https://upload.wikimedia.org/wikipedia/commons/thumb/1/1c/Directed_graph%2C_cyclic.svg/2000px-Directed_graph%2C_cyclic.svg.png\" width=\"250\">\n",
    "\n",
    "Da eine Kante $\\{i, j\\}$ in einem ungerichteten Graph durch die beiden Kanten $(i, j)$ und $(j, i)$ in einem gerichteten Graphen dargestellt werden kann, kann jeder ungerichtete Graph in einen äquivalenten gerichteten Graph übertragen werden. Die Umkehrung gilt nicht.\n",
    "\n",
    "### Gewichteter Graph\n",
    "\n",
    "Bei einem *gewichteten Graphen* wird jeder Kante ein numerischer Wert als *Gewicht* zugeordnet. Im Jargon spricht man auch von einem \"kantengelabelten\" Graphen.\n",
    "\n",
    "Die Gewichte können dabei jegliche Arten von Kosten darstellen. Dies ist beispielsweise nützlich, um ein Straßennetz abzubilden und mit den Gewichten die Distanz zwischen Knotenpunkten (Städten) anzugeben. Bei einem Navigationssystem könnten auch die benötigte Reisezeit oder der Kraftstoffverbrauch durch die Gewichte ausgedrückt werden.\n",
    "\n",
    "Ein gewichteter Graph kann sowohl *gerichtet*, als auch *ungerichtet* sein.\n",
    "\n",
    "<img src=\"https://www.geeksforgeeks.org/wp-content/uploads/graph-STL.png\" width=\"250\">\n",
    "\n",
    "\n",
    "## Repräsentation von Graphen\n",
    "\n",
    "### Adjazenzmatrix\n",
    "\n",
    "Eine typische Form einen Graphen zu repräsentieren ist die *Adjazenzmatrix* (Nachbarschaftsmatrix). Dabei handelt es sich um eine *quadratische Matrix*, deren Zeilen und Spalten den Knoten des Graphen entsprechen. Als konkrete Datenstruktur wird im Allgemeinen ein zweidimensionales Feld verwendet. Die Zeilenknoten interpretiert man als \"von\"-Knoten und die Spaltenknoten als die \"nach\"-Knoten. Der in der Matrix im Feld $[i,j]$ eingetragene Wert ist das Gewicht der Kante $(i,j)$. Existiert eine Kante nicht, so wird ein Ersatzwert, wie $\\infty$ oder __null__ verwendet. Handelt es sich um einen ungewichteten Graphen, so können auch Booleans oder $0/1$ für die Nicht/Existenz der betrachteten Kante verwendet werden.\n",
    "\n",
    "__Beispiel:__ Der Graph\n",
    "<img src=\"https://www.geeksforgeeks.org/wp-content/uploads/graph-STL.png\" width=\"250\">\n",
    "wird folgendermaßen dargestellt:\n",
    "\n",
    "| von/nach | 0 | 1 | 2 | 3 |\n",
    "| ---------|---|---|---|---|\n",
    "| 0        | 0 | 10 | 3 | 2 |\n",
    "| 1        | $\\infty$ | 0 | $\\infty$ | 7 |\n",
    "| 2        | $\\infty$ | $\\infty$ | 0 | 6 |\n",
    "| 3        | $\\infty$ | $\\infty$ | $\\infty$ | 0 |\n",
    "\n",
    "Zugehörige Adjazenzmatrix:\n",
    "$$\n",
    "\\begin{bmatrix}\n",
    "0 & 10 & 3 & 2 \\\\\n",
    "\\infty & 0 & \\infty & 7 \\\\\n",
    "\\infty & \\infty & 0 & 6 \\\\\n",
    "\\infty & \\infty & \\infty & 0 \\\\\n",
    "\\end{bmatrix}\n",
    "$$\n",
    "\n",
    "Da es sich um eine quadratische Matrix handelt, beträgt der Speicheraufwand $\\mathcal{O}({\\lvert V \\rvert}^2)$. $|V|$ steht für die Anzahl der Knoten.\n",
    "\n",
    "Die Adjazenzmatrix ist als Repräsentationsform ungeeignet, wenn der Graph nur wenige Kanten besitzt, denn dann besteht die Matrix vor allem aus \"Blindeinträgen\", wie eben $\\infty$.\n",
    "\n",
    "### Adjazenzliste\n",
    "\n",
    "Eine alternative Repräsentation eines Graphen ist die *Adjazenzliste*: Für jeden Knoten $v$ wir (in einer Liste) vermerkt, mit welchen Knoten $v$ verbunden (adjazent) ist und welches Gewicht die ggf. gerichtete Kante besitzt. Die Elemente der Adjazenzliste sind also `(node, weight)`-Paare. Bei ungewichteten Graphen ist das \"Standardgewicht\" jeder Kante eine $1$. (Dies kann auch für die Zählung von Niveaus oder Schritten von Vorteil sein.)\n",
    "\n",
    "Handelt es sich um einen Graphen mit wenigen Kanten, so wird gegenüber einer Adjazenzmatrix weniger Speicherplatz verbraucht, da lediglich für die existierenden Kanten Speicher beansprucht wird. Die Worst-case-Speicherkomplexität beträgt aber ebenfalls $\\mathcal{O}({\\lvert V \\rvert}^2)$, da es bis zu $\\lvert V \\rvert \\cdot \\left( \\lvert V \\rvert - 1 \\right) \\in \\mathcal{O}({\\lvert V \\rvert}^2)$ Kanten geben kann."
   ]
  },
  {
   "cell_type": "code",
   "execution_count": 45,
   "metadata": {},
   "outputs": [
    {
     "name": "stdout",
     "output_type": "stream",
     "text": [
      "v1,10  v2,3  v3,2  "
     ]
    }
   ],
   "source": [
    "class Node:\n",
    "    def __init__(self, name):\n",
    "        self.name = name\n",
    "        self.adj = []\n",
    "        \n",
    "    def add_to_adj_lst(self, node, weight=1):\n",
    "        self.adj.append((node, weight))\n",
    "        \n",
    "    def adjprint(self):\n",
    "        for p in self.adj:\n",
    "            print('v'+p[0].name, p[1], sep=',', end='  ') \n",
    "\n",
    "v0 = Node('0')\n",
    "v1 = Node('1')\n",
    "v2 = Node('2')\n",
    "v3 = Node('3')\n",
    "\n",
    "v0.add_to_adj_lst(v1, 10)\n",
    "v0.add_to_adj_lst(v2, 3)\n",
    "v0.add_to_adj_lst(v3, 2)\n",
    "v1.add_to_adj_lst(v3, 7)\n",
    "v2.add_to_adj_lst(v3, 6)\n",
    "\n",
    "v0.adjprint()"
   ]
  },
  {
   "cell_type": "markdown",
   "metadata": {},
   "source": [
    "Im Programmbeispiel werden vier Knoten instanziiert. Von <tt>v0</tt> aus gibt es gewichtete Kanten zu <tt>v1</tt>, <tt>v2</tt> und <tt>v3</tt>.\n",
    "\n",
    "Neben den beiden genannten Repräsentationsformen für Graphen gibt es weitere, die wir hier jedoch nicht betrachten."
   ]
  },
  {
   "cell_type": "markdown",
   "metadata": {},
   "source": [
    "## Graphalgorithmen\n",
    "\n",
    "### Breadth-First Search (BFS, Breitensuche)\n",
    "\n",
    "Eine typische Fragestellung für Graphen ist die nach der *Erreichbarkeit von Knoten* von einem bestimmten Startknoten aus. Dies ist oftmals verbunden mit der *Frage nach dem kürzesten Weg vom Start- zum Zielknoten* (Single-Source Shortest Path). Bei ungewichteten Graphen entspricht die Entfernung vom Start- zum Zielknoten der Anzahl der auf dem Weg liegenden Kanten. In folgendem Beispiel ist 2 die geringste Entfernung von Knoten 4 vom Startknoten 0, wegen $(0,2,4)$, nicht etwa 3, wegen $(0,5,3,4)$, oder 4, wegen $(0,5,3,2,4)$ bzw. $(0,1,2,3,4)$. "
   ]
  },
  {
   "cell_type": "markdown",
   "metadata": {},
   "source": [
    "__Beispiel:__ Wir starten im Knoten mit der Bezeichnung 0 des folgenden Graphen.\n",
    "<img src=\"img/graph4.png\" width=\"300\" />"
   ]
  },
  {
   "cell_type": "code",
   "execution_count": 46,
   "metadata": {},
   "outputs": [],
   "source": [
    "    # Knoten \n",
    "a = Node('0')\n",
    "b = Node('1')\n",
    "c = Node('2')\n",
    "d = Node('3')\n",
    "e = Node('4')\n",
    "f = Node('5')\n",
    "\n",
    "    # Adjazenzlisten    \n",
    "a.add_to_adj_lst(b)\n",
    "a.add_to_adj_lst(c)\n",
    "a.add_to_adj_lst(f)\n",
    "\n",
    "b.add_to_adj_lst(a)\n",
    "b.add_to_adj_lst(c)\n",
    "\n",
    "c.add_to_adj_lst(a)\n",
    "c.add_to_adj_lst(d)\n",
    "c.add_to_adj_lst(e)\n",
    "\n",
    "d.add_to_adj_lst(c)\n",
    "d.add_to_adj_lst(e)\n",
    "d.add_to_adj_lst(f)\n",
    "\n",
    "e.add_to_adj_lst(c)\n",
    "e.add_to_adj_lst(d)\n",
    "\n",
    "f.add_to_adj_lst(a)\n",
    "f.add_to_adj_lst(d)"
   ]
  },
  {
   "cell_type": "markdown",
   "metadata": {},
   "source": [
    "Die *klassische Breitensuche (BFS)* bildet die Grundlage für eine Reihe von Algorithmen zur Verarbeitung von Graphen.\n",
    "Bei der Breitensuche in einem ungewichteten Graphen wird - anders als bei der weiter unten betrachteten *Tiefensuche (Depth-First Search, DFS)* - gleichmäßig vom Wurzelknoten (der Knoten, bei dem der gesuchte Pfad beginnt) aus vorwärts gegangen. \"Gleichmäßig\" bedeutet dabei, dass, bevor man weiter in die Tiefe des Graphen voran schreitet, zunächst alle Knoten einer Ebene festgestellt werden. Zwei Knoten sind dabei auf der gleichen Ebene, wenn sie gleich weit, d.h. um die gleiche Anzahl an Knoten, vom Wurzelknoten entfernt sind.\n",
    "\n",
    "Wenn wir nach den kürzesten Wegen zu den Knoten eines Graphen vom Wurzelknoten aus fragen, ist sofort einzusehen, dass wir Kreise ausschließen müssen. Ein Weg (geschlossener Kantenzug), der außer dem Anfangs- und Endknoten jeden seiner Knoten nur einmal durchläuft, heißt **Kreis**. Im Beispielgraphen sind $(0,5,3,4,2,0)$ und $(0,5,3,2,0)$ solche Kreise. Wie im Kreisverkehr führt jede weitere Runde zurück zum Ausgangspunkt und macht die gefahrene Strecke nur länger. Wir müssen daher vermeiden, dass bereits besuchte Knoten erneut betreten/betrachtet werden. Diese \"Erinnerung\" erreicht man mit Markierungen.\n",
    "\n",
    "Wir gehen folgendermaßen vor:\n",
    "1. Wähle einen Startknoten, markiere ihn und schreibe ihn in eine Liste.\n",
    "2. Steiche den ersten Knoten aus der Liste und nenne ihn *aktiver Knoten*.\n",
    "3. Markiere alle noch nicht markierten Nachbarn des *aktiven Knotens*. Vermerke für alle nun markierten Nachbarn den aktiven Knoten als Vorgängerknoten (auf dem Weg zum Ziel).\n",
    "4. Füge die neu markierten Knoten in der Liste (hinten) an.\n",
    "5. Falls die Liste leer ist, dann Stopp, sonst weiter bei 2.\n",
    "\n",
    "Wie man sieht, ist das BFS-Verfahren nicht rekursiv und es gibt auch kein Backtracking.\n",
    "\n",
    "Die in den Schritten 2 und 4 angewandten Operationen (dequeue und enqueue) sind charakteristisch für **Warteschlangen**. Das Verarbeitungsprinzip heißt **FIFO = Fast-In-First-Out**: Wer am Anfang einer Warteschlange steht, wird zuerst bedient; wer (irgendwann) bedient werden möchte, muss sich hinten anstellen. Eine dem entsprechende Datenstruktur nennt man <a href=\"03 - Abstrakte Datentypen und Datenstrukturen.ipynb#Queue\">Queue</a>. Sie ist in allen gängigen Programmiersprachen implementiert. In Python heißen die zugehörigen Methoden `put(node)` und `get()`."
   ]
  },
  {
   "cell_type": "markdown",
   "metadata": {},
   "source": [
    "Zur Erfassung des jeweiligen Vorgängerknotens wird im Programm eine Datenstruktur verwendet, die man <a href=\"07 - Hashing und Hash Tables.ipynb#Dictionary\">Dictionary</a> nennt. Wir betrachten sie im Zusammenhang mit dem Thema *Hashing* etwas genauer. Es handelt sich um eine Menge von key-value-Paaren beliebigen Datentyps. Der zu einem Schlüssel (key) gehörende Wert (value) wird durch Angabe dieses Schlüssels (sehr effizient) gefunden. Ob eine bestimmte Eingabe tatsächlich ein Schlüssel ist, kann abgefragt werden:"
   ]
  },
  {
   "cell_type": "code",
   "execution_count": 47,
   "metadata": {},
   "outputs": [
    {
     "name": "stdout",
     "output_type": "stream",
     "text": [
      "2\n",
      "not in dict\n"
     ]
    }
   ],
   "source": [
    "wb1 = {'one' : 1, 'two' : 2, 'three' : 3}\n",
    "print(wb1['two']) \n",
    "if 'five' in wb1:\n",
    "    print(5)\n",
    "else:\n",
    "    print('not in dict')"
   ]
  },
  {
   "cell_type": "markdown",
   "metadata": {},
   "source": [
    "In der folgenden Funktion `bfs` sind sowohl die Schlüssel als auch die Werte des Dictionarys `pred` Knoten des betrachteten Graphen.\n",
    "Der Eintrag des Vorgängerknotens in das Dictionary wird mit der Markierung des betrachteten Knotens verbunden, was genau dem Schritt 3 entspricht. Ein besuchter Knoten wird also dadurch markiert, dass er in der Dictionary erstmals erfasst wird."
   ]
  },
  {
   "cell_type": "code",
   "execution_count": 48,
   "metadata": {},
   "outputs": [
    {
     "name": "stdout",
     "output_type": "stream",
     "text": [
      "0 -\n",
      "1 0\n",
      "2 0\n",
      "5 0\n",
      "3 2\n",
      "4 2\n"
     ]
    }
   ],
   "source": [
    "import queue\n",
    "\n",
    "def bfs(root):   \n",
    "    pred = {}  # Dictionary zur Aufnahme des Vorgängerknotens für jeden markierten Knoten \n",
    "    q = queue.Queue() # Warteschlange\n",
    "    q.put(root)       # Zu Beginn root-Knoten in die Warteschlange legen\n",
    "    pred[root] = Node('-')  # Markieren des Wurzelknotens\n",
    "    while not q.empty():\n",
    "        current = q.get()               # aktiver Knoten\n",
    "        for node in current.adj:        # Alle Nachbarknoten, ...\n",
    "            if node[0] not in pred:     # die nicht markiert sind ...\n",
    "                q.put(node[0])          # in der Warteschlange hinten anfügen\n",
    "                pred[node[0]] = current # ersten Knoten aus Adjazenzliste markieren und Vorgängerknoten vermerken\n",
    "    for k in pred.keys():\n",
    "        print(k.name, pred[k].name)     # Ausgabe des Vorgängerknotens für jeden markierten Knoten\n",
    "\n",
    "bfs(a)\n"
   ]
  },
  {
   "cell_type": "markdown",
   "metadata": {},
   "source": [
    "Aus diesen Angaben kann der BFS-Suchbaum für dieses Beispiel sehr einfach rekonstruiert werden. Jeder Knoten des Baumes besitzt genau einen Vorgänger.\n",
    "<img src=\"img/graph5.png\" width=\"200\" />"
   ]
  },
  {
   "cell_type": "markdown",
   "metadata": {},
   "source": [
    "#### Single-Source Shortest Path (SSSP)\n",
    "\n",
    "Um in einem ungewichteten Graphen (bzw. in einem gewichteten Graphen, bei dem alle Kanten das gleiche Gewicht haben) den kürzesten Weg von einem Quellknoten zu einem vorgegebenen Knoten zu finden, kann die Breitensuche verwendet werden. Da die Breitensuche gleichmäßig von Ebene zu Ebene expandiert, muss man während des BFS-Prozesses lediglich mitzählen, in welcher Ebene man sich befindet. Die Ebene gibt an, wie weit der jeweils gefundene Knoten vom Quellknoten entfernt ist (Anzahl der Kanten auf dem Pfad).\n",
    "\n",
    "Mit Hilfe des folgenden Programms können wir die Aussage zum kürzesten Weg (2) von Knoten 0 (a) zum Knoten 4 (e) für unser obiges Beispiel vom Beginn des Abschnitts überprüfen. Die BFS als Basisprozesse ist deutlich erkennbar."
   ]
  },
  {
   "cell_type": "code",
   "execution_count": 49,
   "metadata": {},
   "outputs": [
    {
     "name": "stdout",
     "output_type": "stream",
     "text": [
      "distance from a to b:  2\n",
      "distance from a to g:  0\n",
      "distance from a to h:  2\n"
     ]
    }
   ],
   "source": [
    "def bfs_shortest_path(source, target):\n",
    "    if source == target:\n",
    "        return 0\n",
    "    node_to_level = {}\n",
    "    q = queue.Queue()\n",
    "    q.put(source)         # Startknoten in Warteschlange legen\n",
    "    current_level = 0     # Niveau initialisieren\n",
    "    node_to_level[source] = current_level  # Startknoten: Niveau 0\n",
    "    while not q.empty():\n",
    "        current = q.get()\n",
    "        current_level = node_to_level[current]\n",
    "        for node in current.adj:\n",
    "            if node[0] not in node_to_level:\n",
    "                if node[0] == target:\n",
    "                    return current_level + 1\n",
    "                q.put(node[0])\n",
    "                node_to_level[node[0]] = current_level + 1\n",
    "    return None\n",
    "\n",
    "print('distance from a to b: ', bfs_shortest_path(a, e))\n",
    "print('distance from a to g: ', bfs_shortest_path(b, b))\n",
    "print('distance from a to h: ', bfs_shortest_path(e, a))"
   ]
  },
  {
   "cell_type": "markdown",
   "metadata": {},
   "source": [
    "### Depth-First Search (DFS, Tiefensuche)\n",
    "\n",
    "Eine BFS (in dieser Grundform) besucht für jeden Knoten alle Nachbarknoten des (zusammenhängenden) Graphen und setzt die Suche für diese entsprechend fort. Dies ist zwar sehr systematisch und für viele Aufgabenstellungen angemessen, kann aber in bestimmten Fällen aufwendiger sein. \n",
    "\n",
    "Ein klassisches Beispiel ist das *Labyrinthproblem*. Um von einem Startknoten (Eingang) aus den in einem (unbekannten) Zielknoten (Versteck) hinterlegten Schatz zu finden, ist eine systematische Suche erforderlich. Dafür hat sich (schon in der Antike) folgendes Verfahren herauskristallisiert: Markiere jede besuchte Kreuzung (Punkt mit mehreren Straßenabzweigungen) und setze die Suche bei einer der Folgekreuzungen fort. Gibt es an einer solchen keine unmarkierten Fortsetzungsmöglichkeiten, so gehe zurück zum letzten Entscheidungspunkt und wähle eine noch unmarkierte Folgekreuzung.\n",
    "\n",
    "Diese Verfahren schreitet zuerst in die *Tiefe* des Suchbaums voran, nicht in die Breite, wie bei BFS. Es kann effizienter sein, da es viele Fortsetzungsmöglichkeiten unbetrachtet lässt. Im worst case muss dennoch der vollständige Suchbaum aufgebaut werden.\n",
    "\n",
    "Nach dieser intuitiven Einführung können wir nun das Verfahren auf einer abstrakteren Basis mit Graphen präsentieren.\n",
    "\n",
    "Die **Depth-First Search (Tiefensuche)** beginnt bei einem festgelegten Startknoten. Für jeden der zu diesem Startknoten adjazenten Knoten wird im Folgenden die Tiefensuche rekursiv durchgeführt. Man beginnt mit dem ersten dieser adjazenten Knoten und schreitet in die Tiefe (auf das nächste Niveau) rekursiv fort. Dies wird solange fortgesetzt, bis ein Knoten erreicht ist, der keine unbearbeiteten adjazenten Knoten hat. Die Rekursion sorgt dann automatisch dafür, dass zum letzten ausgewählten und nun vollständig bearbeiteten Knoten zurückgegangen wird. Die Fortsetzung erfolgt dort, wo die nächste Entscheidungsmöglichkeit besteht, d.h. beim nächsten adjazenten Knoten: *Backtracking*.\n",
    "\n",
    "Der beschriebene Prozess kann mit Hilfe eines **Stacks** (ADT) adäquat implementiert werden. Ein Stack arbeitet nach dem **LIFO**-Prinzip: *Last-in-first out*: Das Element, das als letztes auf den Stack gelegt wurde, wird zuerst entfernt. Wie oben beschrieben, wird die Stackarbeit auf der Ebene der Programmiersprache durch die Verarbeitug *rekursiver Prozeduren* erledigt. \n",
    "\n",
    "In folgendem Beispiel könnten Knotenvergleiche, die zur Elementsuche notwendig wären, leicht hinzugefügt werden.\n",
    "\n",
    "__Beispiel:__\n",
    "\n",
    "<img src=\"https://ds055uzetaobb.cloudfront.net/image_optimizer/78fb8725fb8db65ecbc1a7e0765f48e4f4ccb30f.png\" width=\"250\">"
   ]
  },
  {
   "cell_type": "code",
   "execution_count": 50,
   "metadata": {},
   "outputs": [],
   "source": [
    "a = Node('A')\n",
    "b = Node('B')\n",
    "c = Node('C')\n",
    "d = Node('D')\n",
    "e = Node('E')\n",
    "f = Node('F')\n",
    "g = Node('G')\n",
    "\n",
    "a.add_to_adj_lst(b)\n",
    "b.add_to_adj_lst(c)\n",
    "b.add_to_adj_lst(e)\n",
    "b.add_to_adj_lst(d)\n",
    "c.add_to_adj_lst(e)\n",
    "d.add_to_adj_lst(e)\n",
    "e.add_to_adj_lst(f)\n",
    "g.add_to_adj_lst(d)"
   ]
  },
  {
   "cell_type": "markdown",
   "metadata": {},
   "source": [
    "Da die Reihenfolge, in der die zu B adjazenten Knoten C, E und D angegeben sind, für das Verfahren eine (gewisse) Rolle spielt, fragen wir danach:"
   ]
  },
  {
   "cell_type": "code",
   "execution_count": 51,
   "metadata": {},
   "outputs": [
    {
     "name": "stdout",
     "output_type": "stream",
     "text": [
      "C\n",
      "E\n",
      "D\n"
     ]
    }
   ],
   "source": [
    "for i in b.adj:\n",
    "    print(i[0].name)"
   ]
  },
  {
   "cell_type": "markdown",
   "metadata": {},
   "source": [
    "Nun können wir das DFS-Verfahren knapp und elegant rekursiv implementieren:"
   ]
  },
  {
   "cell_type": "code",
   "execution_count": 52,
   "metadata": {},
   "outputs": [
    {
     "name": "stdout",
     "output_type": "stream",
     "text": [
      "A B C E F E F D E F "
     ]
    }
   ],
   "source": [
    "def dfs(root):\n",
    "    print(root.name, end=' ')\n",
    "    for node in root.adj:\n",
    "        dfs(node[0])\n",
    "\n",
    "dfs(a)\n"
   ]
  },
  {
   "cell_type": "markdown",
   "metadata": {},
   "source": [
    "Es lohnt sich ein Ablaufprotokoll in Kurzform, A bedeutet dfs(A), anzufertigen:\n",
    "\n",
    "<img src=\"img/WurzelbaumDSF01.png\" width=\"200\">\n",
    "\n",
    "Die angegebenen Knoten werden unmittelbar nachdem sie das erste Mal besucht wurden, gedruckt. Fahren Sie mit dem Finger den Baum entlang und notieren Sie die jeweils erste (von jeweils drei) Knotenberührung(en). `dfs(A)` erfordert `dfs(B)`. Die Berechnung erfordert (bei oben ergründeter Reihenfolge der Adjazenzknoten $C, E, D$) `dfs(C)`. Daraus ergibt sich `dfs(E)` und schließlich `dfs(F)`. Da $F$ keinen Folgeknoten besitzt, liefert mehrfaches Backtracking die Fortsetzung bei `dfs(E)`, was wiederum `dfs(F)` aufruft. Der letzte Versuch findet mit `dfs(D)` statt, was wiederum `dfs(E)` und weiter `dfs(F)` berechnet. Es schließt sich mehrfaches Backtracking an, bis das Ausgangsniveau von $A$ wieder erreicht ist.\n",
    "\n",
    "Es werden alle von A aus erreichbaren Knoten ausgegeben, entsprechend der Reihenfolge von DFS: Im Baum jeweils die erste Knotenberührung. \n",
    "Der Knoten $G$ taucht nicht auf, da er von $A$ aus nicht erreichbar ist.\n",
    "\n",
    "Da es mehrere Wege zu einem Knoten gibt, kommen Knoten mehrfach vor. Handelt es sich um einen Graphen mit *Kreisen* bzw. *Zyklen*, so würde der Algorithmus nicht terminieren. Dies illustrieren wir an obigem Beispiel, indem wir eine Kante von $F$ nach $G$ hinzufügen, sodass mehrere Zyklen entstehen. (Es empfiehlt sich nach dem Experiment, die Kante wieder herauszukommentieren und alle Felder des Notebooks neu zu evaluieren.)"
   ]
  },
  {
   "cell_type": "code",
   "execution_count": 53,
   "metadata": {},
   "outputs": [
    {
     "name": "stdout",
     "output_type": "stream",
     "text": [
      "A B C E F E F D E F "
     ]
    }
   ],
   "source": [
    "#f.add_to_adj_lst(g)\n",
    "\n",
    "dfs(a)"
   ]
  },
  {
   "cell_type": "markdown",
   "metadata": {},
   "source": [
    "Um dies zu verhindern, kann man (z.B. in einem Dictionary) die bereits gefundenen Knoten speichern und den jeweils nächsten nur dann besuchen, wenn er vorher noch nicht betreten wurde. Dies vereinfacht auch die DFS in unserem obigen (zyklenfreien) Beispiel, wenn z.B. dfs(E) nicht mehrfach berechnet werden muss."
   ]
  },
  {
   "cell_type": "code",
   "execution_count": 54,
   "metadata": {
    "scrolled": true
   },
   "outputs": [
    {
     "name": "stdout",
     "output_type": "stream",
     "text": [
      "A B C E F D "
     ]
    }
   ],
   "source": [
    "def dfs_no_dupl(v, found={}):\n",
    "    if v not in found:\n",
    "        print(v.name, end=' ')\n",
    "        found[v] = True\n",
    "        for w in v.adj:\n",
    "            dfs_no_dupl(w[0], found)\n",
    "            \n",
    "dfs_no_dupl(a)"
   ]
  },
  {
   "cell_type": "markdown",
   "metadata": {},
   "source": [
    "Es folgt noch eine zweite Variante `dfs3`, die anstelle des Dictionarys für die markierten Knoten eine Menge verwendet. Man beachte, dass beide Funktionen zwar nicht in einen Endloszyklus hineinlaufen, wenn der Graph nicht zyklenfrei ist. Eine Vorabentscheidung, ob ein gegebener Graph einen Zyklus besitzt oder nicht, können sie beide nicht treffen. Wir geben sie an, weil daraus die Funktion `dfs_erreichbar` unmittelbar abgeleitet werden kann."
   ]
  },
  {
   "cell_type": "code",
   "execution_count": 55,
   "metadata": {},
   "outputs": [
    {
     "name": "stdout",
     "output_type": "stream",
     "text": [
      "A B C E F D "
     ]
    }
   ],
   "source": [
    "def dfs3(v, markiert=set()):\n",
    "    print(v.name, end=' ')\n",
    "    markiert.add(v)\n",
    "    for w in v.adj:\n",
    "        if w[0] not in markiert:\n",
    "            dfs3(w[0], markiert)\n",
    "            \n",
    "dfs3(a)"
   ]
  },
  {
   "cell_type": "markdown",
   "metadata": {},
   "source": [
    "Alternativ ist es möglich, einen noch unbetrachteten Knoten weiß, einen noch nicht vollständig einbezogenen grau und einen vollständig berücksichtigten schwarz zu färben."
   ]
  },
  {
   "cell_type": "code",
   "execution_count": 56,
   "metadata": {},
   "outputs": [
    {
     "name": "stdout",
     "output_type": "stream",
     "text": [
      "A B C E F D "
     ]
    }
   ],
   "source": [
    "farbe = {}   # global gültiges Dictionary\n",
    "\n",
    "for u in [a, b, c, d, e, f, g]:\n",
    "    farbe[u] = 'weiß'\n",
    "\n",
    "def dfs1(u):\n",
    "    print(u.name, end=' ')\n",
    "    farbe[u] = 'grau'\n",
    "    for v in u.adj:\n",
    "        if farbe[v[0]] == 'weiß':\n",
    "            dfs1(v[0])\n",
    "    farbe[u] = 'schwarz'\n",
    "\n",
    "dfs1(a)"
   ]
  },
  {
   "cell_type": "markdown",
   "metadata": {},
   "source": [
    "Da jeder Knoten und jede Kante jeweils maximal einmal besucht werden, beträgt die Laufzeit $\\mathcal{O}(\\lvert V \\rvert + \\lvert E \\rvert)$. Handelt es sich um einen zusammenhängenden Graphen gilt $|E|\\geq |V|-1$, sodass man den Aufwand mit $\\mathcal{O}(|E|)$ abschätzen kann."
   ]
  },
  {
   "cell_type": "markdown",
   "metadata": {},
   "source": [
    "Die Graphentheorie definiert eine große Palette von Eigenschaften, die ein Graph besitzt oder nicht. Darunter gibt es Eigenschaften, die für die Informatik von besonderer Bedeutung sind, weil sie Standardfälle der Modellierung darstellen. \n",
    "\n",
    "#### Erreichbarkeit\n",
    "Ein Knoten $w$ eines (gerichteten oder ungerichteten) Graphen heißt von $v$ **erreichbar**, wenn es einen Weg von $v$ nach $w$ gibt. Wir bestimmen die Menge der von $v$ erreichbaren Knoten.\n",
    "Wie weiter oben angekündigt entwickeln wir `dfs_erreichbar` aus `dfs3` heraus, indem wir auf die Ausgabe der besuchten Knoten verzichten und sie in einer Menge zusammenfassen. Man beachte, dass Mengen *ungeordnete* Zusammenfassungen von Elementen sind. Das Aufrufbeispiel zeigt beispielsweise, dass die Knoten $A,B$ und $C$ von $G$ nicht erreichbar sind."
   ]
  },
  {
   "cell_type": "code",
   "execution_count": 57,
   "metadata": {},
   "outputs": [
    {
     "name": "stdout",
     "output_type": "stream",
     "text": [
      "A\n",
      "E A F C B D \n",
      "B\n",
      "E F C B D \n",
      "C\n",
      "F C E \n",
      "D\n",
      "F D E \n",
      "E\n",
      "F E \n",
      "F\n",
      "F \n",
      "G\n",
      "F G D E \n"
     ]
    }
   ],
   "source": [
    "def dfs_erreichbar(v, markiert, erreichbare_Knoten):\n",
    "    # if erreichbare_Knoten == set(): print(v.name)     # für Kontrollzwecke\n",
    "    erreichbare_Knoten.add(v)                           # gegenüber dfs3 hinzugefügt\n",
    "    markiert.add(v)\n",
    "    for w in v.adj:\n",
    "        if w[0] not in markiert:                \n",
    "            dfs_erreichbar(w[0], markiert, erreichbare_Knoten)\n",
    "    return erreichbare_Knoten\n",
    "\n",
    "for v in (a,b,c,d,e,f,g):\n",
    "    print(v.name)\n",
    "    for w in dfs_erreichbar(v, set(), set()):\n",
    "        print(w.name, end=' ')\n",
    "    print()"
   ]
  },
  {
   "cell_type": "markdown",
   "metadata": {},
   "source": [
    "#### Zusammenhängender ungerichteter Graph\n",
    "Ein *ungerichteter Graph* ist **zusammenhängend**, wenn jeder Knoten mit jedem anderen durch einen *Weg* (Pfad, Kantenzug) verbunden ist. Ein Weg wird als Folge der zugehörigen Knoten, die durch Kanten verbunden sind, angegeben. Die Länge eines Weges ergibt sich aus der Anzahl der darin vorkommenden Kanten.\n",
    "\n",
    "In einem zusammenhängenden Graphen muss jeder Knoten von jedem Knoten *erreichbar* sein. Dies können wir mit `dfs_erreichbar` feststellen. Besteht ein Graph aus mehreren nicht zusammenhängenden Teilen, so nennt man diese Zusammenhangskomponenten. \n",
    "\n",
    "Für das obige Beispiel eines gerichteten Graphen ergänzen wir die jeweilige gerichtete Kante in Gegenrichtung, um einen de facto ungerichteten Graphen zu erhalten."
   ]
  },
  {
   "cell_type": "code",
   "execution_count": 58,
   "metadata": {},
   "outputs": [],
   "source": [
    "#b.add_to_adj_lst(a)\n",
    "#c.add_to_adj_lst(b)\n",
    "#e.add_to_adj_lst(b)\n",
    "#d.add_to_adj_lst(b)\n",
    "#e.add_to_adj_lst(c)\n",
    "#e.add_to_adj_lst(d)\n",
    "#f.add_to_adj_lst(e)\n",
    "#d.add_to_adj_lst(g)"
   ]
  },
  {
   "cell_type": "code",
   "execution_count": 59,
   "metadata": {},
   "outputs": [
    {
     "name": "stdout",
     "output_type": "stream",
     "text": [
      "E 2\n",
      "False\n"
     ]
    }
   ],
   "source": [
    "def zusammenhaengend(knotenmenge):\n",
    "    knotenanzahl = len(knotenmenge)\n",
    "    result = True\n",
    "    for v in knotenmenge:\n",
    "        erreichbare_Knoten = dfs_erreichbar(v, set(), set())\n",
    "        print(v.name, len(erreichbare_Knoten))\n",
    "        if len(erreichbare_Knoten) < knotenanzahl:        \n",
    "            result = False\n",
    "            break\n",
    "    return result\n",
    "         \n",
    "print(zusammenhaengend({a,b,c,d,e,f,g}))"
   ]
  },
  {
   "cell_type": "markdown",
   "metadata": {},
   "source": [
    "Entfernt man beispielsweise die gerichtete Kante von $F$ nach $E$, können von $F$ aus keine Knoten erreicht werden. *Hinweis*: Wenn Sie dies durch Herauskommentierung mittels `#f.add_to_adj_lst(e)` bewerkstelligen, so ist das Notebook im Anschluss mit `Run all` vollständig zu evaluieren. Dies gilt auch für die Rücknahme durch Entfernung des Kommentarzeichens `#`."
   ]
  },
  {
   "cell_type": "markdown",
   "metadata": {},
   "source": [
    "#### Gerichteter zyklenfreier Graph (DAG) \n",
    "Häufig werden gerichtete Graphen (*Digraphen*) verwendet, die keinen *Zyklus* besitzen dürfen. Man nennt sie **DAG** (*directed acyclic graph*). Einen Weg $(v_1,v_2,\\ldots,v_m)$, bei dem der Start- $v_1$ mit dem Endknoten $v_m$ übereinstimmt, nennt man **Zyklus**. Wenn dies der einzige wiederholte Knoten in der Knotenfolge ist, heißt er **Kreis**. Ein Zyklus ist nicht identisch mit einer Schleife/Schlinge, also einer reflexiven Kante $(v,v)$ zum gleichen Knoten in einem gerichteten Graphen.\n",
    "\n",
    "Ein typisches Beispiel für die Anwendung von DAGs sind *Ablaufplanungen mit Vorrangbedingungen*. Als solche sind sie in vielen Bereichen (Haushalt, Produktion, Finanzplanung usw.) anzutreffen. Studierende können die Wahl der Vorlesungen von fachlichen Voraussetzungen, wie sie in einem Modulhandbuch hinterlegt sind, abhängig machen. Auf diese Weise kann eine studierbare Sequenz aufeinander aufbauender Module zusammengestellt werden. \n",
    "\n",
    "Eine von Knoten $A$ zu Knoten $B$ zeigende Kante drückt aus, dass Vorlesung $B$ erst dann gehört werden sollte, wenn der betreffende Studierende den Inhalt aus Vorlesung $A$ aufgenommen hat. Ein nach dieser Vorgehensweise modellierter Graph besteht also aus einer *unvollständig geordneten Knotenmenge*, denn nicht jedes Knotenpaar gehört zu einer solchen *Voraussetzungsrelation*. Mit Hilfe des **topologischen Sortierens** wird daraus eine vollständige Ordnung hergestellt. \"Hält man\" einen bestimmten Knoten fest, so zeigen sämtliche Kanten nach unten und drücken die Abhängigkeits(richtung) aus.\n",
    "\n",
    "Ist dies an einer oder mehreren Stellen verletzt, sodass auch Aufwärtskanten vorkommen, liegt ein Fehler vor. Der Digraph ist dann nicht *zyklenfrei*, also kein DAG. Da Graphen im Allgemeinen sehr viele Knoten, Kanten und damit Zyklen haben können, lautet die Grundaufgabe der Zykluserkennung: Besitzt der vorgelegte Digraph (mind.) einen Zyklus? (Aufgrund der gegebenen Anwendungsbreite beschränken wir unsere Betrachtung auf Digraphen, obwohl Zyklen auch in ungerichteten Graphen auftreten können.)\n",
    "\n",
    "Wir entwickeln die Lösung auf der Basis einer Tiefensuche (DFS). Die Stack-Verwaltung bei der Ausführung der rekursiven DFS-Funktion wirkt wie der ausgerollte Faden zur Rückkehr zum Eingang des Labyrinths: Wir finden den Weg von $w$ zum Eingang $v$ zurück, indem wir der Knotensequenz beim Abbau des Stacks folgen. Es gibt also einen Weg von $w$ nach $v$. So interpretieren wir den Stack-Inhalt $w=F,E,C,B,v=A$ (top of stack ist links) für den aktuellen Weg, der mit dem Knoten $v=A$ beginnt und in der Folge die Knoten $B, C, E$ und $F$ besucht. Finden wir nun eine gerichtete Kante von $v$ zu irgendeinem dieser auf dem Weg liegenden Knoten $w$, so liegt ein Zyklus vor, denn diese Kante vervollständigt den Zyklus. \n"
   ]
  },
  {
   "cell_type": "markdown",
   "metadata": {},
   "source": [
    "Vor dem Aufruf (beider Funktionen) fügen wir obigem DAG noch die gerichtete Kante von $D$ zu $A$ hinzu, sodass Zyklen entstehen. Die ansonsten hinzugefügten Kanten zur Herstellung eines zugehörigen ungerichteten Graphen, müssen wieder entfernt werden: Herauskommentieren der Kanten."
   ]
  },
  {
   "cell_type": "code",
   "execution_count": 60,
   "metadata": {},
   "outputs": [],
   "source": [
    "#z = Node('Z')\n",
    "d.add_to_adj_lst(a)    # Kante von D nach A\n",
    "#z.add_to_adj_lst(a) "
   ]
  },
  {
   "cell_type": "code",
   "execution_count": 61,
   "metadata": {},
   "outputs": [
    {
     "name": "stdout",
     "output_type": "stream",
     "text": [
      "Zyklus bei  A\n",
      "Zyklus bei  B\n",
      "Zyklus bei  D\n",
      "Zyklus bei  D\n"
     ]
    }
   ],
   "source": [
    "def dag(v, markiert, aufWeg):\n",
    "    aufWeg.append(v)\n",
    "    #print(v.name, len(aufWeg))  # für Kontrollzwecke\n",
    "    markiert.add(v)\n",
    "    for w in v.adj:\n",
    "        if not(w[0] in markiert):\n",
    "            dag(w[0], markiert, aufWeg)\n",
    "        else:\n",
    "            if w[0] in aufWeg: \n",
    "                print('Zyklus bei ', w[0].name)\n",
    "    aufWeg.remove(v)\n",
    "    \n",
    "#dag(a, set(), [])\n",
    "\n",
    "def DiCycle():\n",
    "    for v in (a,b,c,d,e,f,g):\n",
    "        dag(v, set(), [])\n",
    "    \n",
    "DiCycle()"
   ]
  },
  {
   "cell_type": "markdown",
   "metadata": {},
   "source": [
    "Für die Startknoten $A$, $B$, $D$ und $G$ werden Zyklen gefunden, für die übrigen Knoten nicht. Fazit: Der vorliegende Graph mit Kante von $D$ nach $A$ ist kein DAG!\n",
    "Die Komplexität des Verfahrens entspricht der von DFS."
   ]
  },
  {
   "cell_type": "markdown",
   "metadata": {},
   "source": [
    "Alternative Überlegung: Bei der Tiefensuche in einem Graphen kann es drei verschiedene Arten von Kanten geben: Vorwärts-, Quer- und Rückwärtskanten. Nur *Rückwärtskanten*, die auf Knoten zeigen, die sich noch in Bearbeitung befinden, d.h. die  besucht aber noch nicht verlassen wurden, bilden <a name=\"Zyklus\">Zyklen</a>. \n",
    "<a href=\"https://www.google.com/url?sa=t&rct=j&q=&esrc=s&source=web&cd=1&cad=rja&uact=8&ved=2ahUKEwjv3Lmdi_3kAhVNblAKHVVdAY4QFjAAegQIABAC&url=http%3A%2F%2Fwww.imn.htwk-leipzig.de%2F~jahn%2FCprog%2FAlg_Inf_Jahr_pdf%2Fzyklensuche.pdf&usg=AOvVaw2eQurgUKb4lCVyKiaT1QaX\">Quelle (sehr gut lesbar)</a>"
   ]
  },
  {
   "cell_type": "code",
   "execution_count": 62,
   "metadata": {},
   "outputs": [
    {
     "name": "stdout",
     "output_type": "stream",
     "text": [
      "nicht zyklusfrei\n"
     ]
    }
   ],
   "source": [
    "## Suche von Rückwärtskanten (Verbot für DAG)\n",
    "## Lit.: V. Turau: Alg. Graphentheorie (S. 94f)\n",
    " \n",
    "besucht = {}      # dictionary\n",
    "verlassen = {}    # dictionary\n",
    "\n",
    "zyklus = False    # global\n",
    "\n",
    "def zyklusfrei():\n",
    "    for v in (a,b,c,d,e,f,g):\n",
    "        besucht[v] = False     # Kein Knoten wurde besucht.\n",
    "        verlassen[v] = False   # Kein Knoten wurde vollst. bearbeitet\n",
    "    for v in (a,b,c,d,e,f,g):\n",
    "        if not(besucht.get(v)):\n",
    "            zyklussuche(v)\n",
    "\n",
    "def zyklussuche(v):\n",
    "    global zyklus\n",
    "    besucht[v] = True\n",
    "    for w in v.adj:                        # Nachfolgerknoten von v\n",
    "        #print(w[0].name)\n",
    "        if not(besucht.get(w[0])):         # Vorwärtskante\n",
    "            zyklussuche(w[0])\n",
    "        else:                              # Quer- oder Rückwärtskante\n",
    "            if not(verlassen.get(w[0])):   # Rückwärtskante\n",
    "                #print('Zyklus', w[0].name)\n",
    "                zyklus = True\n",
    "    verlassen[v] = True                    # Knoten ist vollst. bearbeitet\n",
    "    \n",
    "#zyklussuche(a)\n",
    "            \n",
    "zyklusfrei()\n",
    "if zyklus: \n",
    "    print('nicht zyklusfrei') \n",
    "else: \n",
    "    print('zyklusfrei')"
   ]
  },
  {
   "cell_type": "markdown",
   "metadata": {},
   "source": [
    "**Hinweis**: Die *Schleifensuche in einfach verketteten Listen* kann mit dem <a href=\"https://de.wikipedia.org/wiki/Hase-Igel-Algorithmus\">Hase-Igel-Algorithmus</a> mit *linearem Aufwand* $\\mathcal{O}(n)$ bewerkstelligt werden. \n",
    "Das Verfahren ist nicht mit dem Floyd-Warshall-Algorithmus zur Bestimmung der kürzesten Wege für alle Knotenpaare zu verwechseln!"
   ]
  },
  {
   "cell_type": "markdown",
   "metadata": {},
   "source": [
    "#### Baum\n",
    "Ist ein gegebener Graph ein Baum? Dies können wir unter Verwendung der oben bereitgestellten Verfahren entscheiden. Ein **<a href=\"06 - Bäume.ipynb\">Baum</a>** ist ein *ungerichteter azyklischer zusammenhängender Graph*. Ein **Wurzelbaum** ist ein Baum mit einem als Wurzel markierten Knoten.\n",
    "\n",
    "Ein <a href=\"11 - Greedy Algorithmen.ipynb#MST\">aufspannender Baum</a> eines zusammenhängenden Graphen ist ein Baum, d.h. ein kreisfreier und zusammenhängender Teilgraph $G'=(V',E')$, mit $V'=V$ und $E'\\subseteq E$. \n",
    "*kreisfrei* bedeutet eine Knotenfolge ohne Knotenwiederholung. <!-- mit Ausnahme des Start- und Endeknotens.-->\n",
    "\n",
    "Ein Graph, der selbst ein aufspannender Baum ist, heißt *Baum*. In einem Baum sind je zwei Knoten durch genau einen Weg miteinander verbunden."
   ]
  },
  {
   "cell_type": "markdown",
   "metadata": {
    "collapsed": true
   },
   "source": [
    "#### Anwendungsbeispiel: <a name=\"0/1-Rucksack\">0/1 Rucksackproblem</a>\n",
    "\n",
    "Beim Rucksackproblem ist eine nichtleere Menge von $n$ Gegenständen mit den Gewichten (weight) $w_1, w_2, \\dotsc, w_n$ mit $w_i > 0$ und den zugehörigen Werten (value) $v_1, v_2, \\dotsc, v_n$ mit $v_i>0$ gegeben. Das Gewicht des $i$-ten Gegenstands beträgt $w_i$, dessen Wert ist $v_i$. \n",
    "\n",
    "Die Interpretation des Wertes wird durch den jeweiligen Sachkontext bestimmt: Denkt man an Schmuck, so kann der Wert im potenziellen Verkaufserlös bestehen. Handelt es sich um Utensilien eines Bergwanderes, richtet sich der Wert eines Gegenstandes eher nach dessen Beitrag zur Absicherung einer unfallfreien Begehung. \n",
    "\n",
    "Der Rucksack ist nur beschränkt belastbar. Das zulässige Maximalgewicht sei $K$, d.h. das aktuelle Gesamtgewicht darf $K$ keinesfalls überschreiten. Zu beachten ist, dass beim 0/1-Rucksackproblem, im Gegansatz zum Bruchteil-Rucksackproblem, ein Gegenstand entweder in den Rucksack gepackt werden kann oder nicht, eine Teilung des Gegenstands und anteilige Mitnahme sind bei \"0/1\" nicht möglich.\n",
    "\n",
    "Die Optimierungsaufgabe besteht nun darin, einen Rucksack so zu füllen, dass die Wertsumme der eingepackten Gegenstände – unter Beachtung der Kapazitätsbeschränkung des Rucksacks – maximal ist.\n",
    "\n",
    "Zum Finden der Lösungen dieses Problems unter Nutzung der Tiefensuche (DFS)<img src=\"http://4.bp.blogspot.com/-pIpbisjGVFY/T2hj4tUcmWI/AAAAAAAAAEk/d1WP811-Xmc/s1600/depth-first.gif\" width=\"300\">muss ein *Entscheidungsbaum* (ungerichteter, azyklischer und zusammenhängender Graph) aufgestellt werden.\n",
    "In jedem Schritt gibt es für jedes aktuelle Blatt genau eine Ja/Nein-Entscheidung, d.h. zwei Möglichkeiten (Binärbaum): entweder wird der $i$-te Gegenstand in den Rucksack gepackt oder nicht. Der Entscheidungsbaum hat folglich die Höhe $n$ ($n$ = Anzahl der Gegenstände). Die Wurzel repräsentiert den anfangs leeren Rucksack. Sie liegt auf Niveau $0$ des Baumes. Die Blätter des Baums auf Niveau $n$ repräsentieren alle Gegenstandskombinationen der Rucksackbefüllung.\n",
    "\n",
    "Der Entscheidungsbaum liegt nicht als Datenstruktur vor, sondern stellt das Aufbauschema für die Rucksackbefüllungen dar. Man kann es sich als ein Protokoll der Berechnung aller Möglichkeiten vorstellen. Diese Berechnung kann systematisch mit Tiefensuche vorgenommen werden. \n",
    "\n",
    "Da es sich um einen Binärbaum handelt, beträgt die Anzahl der Bätter höchstens $2^n$. Insgesamt besteht der Baum aus $\\sum_{i=0}^n 2^i = 2^{n+1} - 1 \\in \\mathcal{O}(2^n)$ Knoten. Die Laufzeit des Algorithmus' liegt folglich in $\\mathcal{O}(2^n)$. Zur Ermittlung *aller* infrage kommenden Packvarianten (Blätter) ist ein exponentieller Zeitaufwand erforderlich.\n",
    "\n",
    "__Beispiel:__\n",
    "Für drei Gegenstände ($n=3$) mit den Gewichten 50 (Wert: 30), 30 (Wert: 20) und 10 (Wert: 25) ergibt sich der folgende Entscheidungsbaum. (Die Reihenfolge der Gegenstände in der Liste spielt dabei keine Rolle.)\n",
    "<img src=\"img/knapsack_tree.png\" width=\"650\">\n",
    "\n",
    "Wie erwartet besitzt der Baum $2^3=8$ Blätter.\n",
    "\n",
    "Mit <tt>knapsack_dfs</tt> wird die gesamte Knotenfolgenfolge bei zugrunde liegender Tiefensuche (unbeschränkter DFS-Durchlauf) aufgelistet. Sie kann im Graph sehr gut nachvollzogen werden (Backtracking). \n",
    "\n",
    "Die Blätter des Baumes sind in der Ausgabe (<tt>print</tt>) mit <tt>Rucksack:</tt> eingeleitet. Danach folgt die Angabe der eingepackten Gegenstände als Liste von Gewicht-Wert-Paaren, wohingegen die Gegenstände in der Knotennotation nur mit ihrem Gewicht angegeben werden. Mehrere Gegenstände bilden eine Liste ihrer Gewichte. Diese einfache Notation muss für Beispiele mit gewichtsgleichen Gegenständen verändert werden.\n"
   ]
  },
  {
   "cell_type": "code",
   "execution_count": 63,
   "metadata": {},
   "outputs": [
    {
     "name": "stdout",
     "output_type": "stream",
     "text": [
      "[]\n",
      "[50]\n",
      "[50, 30]\n",
      "[50, 30, 10]\n",
      "Rucksack: [(50, 30), (30, 20), (10, 25)]\n",
      "[50, 30]\n",
      "[50, 30]\n",
      "Rucksack: [(50, 30), (30, 20)]\n",
      "[50, 30]\n",
      "[50]\n",
      "[50]\n",
      "[50, 10]\n",
      "Rucksack: [(50, 30), (10, 25)]\n",
      "[50]\n",
      "[50]\n",
      "Rucksack: [(50, 30)]\n",
      "[50]\n",
      "[50]\n",
      "[]\n",
      "[]\n",
      "[30]\n",
      "[30, 10]\n",
      "Rucksack: [(30, 20), (10, 25)]\n",
      "[30]\n",
      "[30]\n",
      "Rucksack: [(30, 20)]\n",
      "[30]\n",
      "[]\n",
      "[]\n",
      "[10]\n",
      "Rucksack: [(10, 25)]\n",
      "[]\n",
      "[]\n",
      "Rucksack: []\n",
      "[]\n",
      "[]\n",
      "[]\n"
     ]
    }
   ],
   "source": [
    "def knapsack_dfs(items, k, knapsack):    \n",
    "    print(list(map(lambda x: x[0], knapsack)))\n",
    "    if len(items) == 0:\n",
    "        print(\"Rucksack:\", knapsack)\n",
    "    else:        \n",
    "        knapsack_dfs(items[1:], k - items[0][0], knapsack + [items[0]])      \n",
    "        print(list(map(lambda x: x[0], knapsack)))\n",
    "        knapsack_dfs(items[1:], k, knapsack)\n",
    "        print(list(map(lambda x: x[0], knapsack)))\n",
    "        \n",
    "K = 0  # K spielt zunächst keine Rolle!\n",
    "items = [(50, 30), (30, 20), (10, 25)]\n",
    "\n",
    "knapsack_dfs(items, K, [])"
   ]
  },
  {
   "cell_type": "markdown",
   "metadata": {},
   "source": [
    "Als Nächstes wird die Kapazitätsbeschränkung des Rucksacks einbezogen. Hierfür muss gegenüber <tt>knapsack_dfs</tt> lediglich eine Programmzeile eingefügt werden: Die Mitnahme eines Gegenstandes findet grundsätzlich nur dann statt, wenn er noch in den Rucksack passt, d.h. wenn dessen Gewicht die aktuelle Restkapazität des Rucksacks nicht überschreitet: <code>items[0][0] <= k</code>.\n",
    "\n",
    "Für $K=62$ wird die Zahl der Knoten (zulässige Rucksackbefüllungen) reduziert:\n",
    "<img src=\"img/knapsack_tree-reduce.png\" width=\"650\">"
   ]
  },
  {
   "cell_type": "code",
   "execution_count": 64,
   "metadata": {},
   "outputs": [
    {
     "name": "stdout",
     "output_type": "stream",
     "text": [
      "[]\n",
      "[50]\n",
      "[50]\n",
      "[50, 10]\n",
      "Rucksack: [(50, 30), (10, 25)]\n",
      "[50]\n",
      "[50]\n",
      "Rucksack: [(50, 30)]\n",
      "[50]\n",
      "[50]\n",
      "[]\n",
      "[]\n",
      "[30]\n",
      "[30, 10]\n",
      "Rucksack: [(30, 20), (10, 25)]\n",
      "[30]\n",
      "[30]\n",
      "Rucksack: [(30, 20)]\n",
      "[30]\n",
      "[]\n",
      "[]\n",
      "[10]\n",
      "Rucksack: [(10, 25)]\n",
      "[]\n",
      "[]\n",
      "Rucksack: []\n",
      "[]\n",
      "[]\n",
      "[]\n"
     ]
    }
   ],
   "source": [
    "def knapsack_dfs_ltd(items, k, knapsack):    \n",
    "    print(list(map(lambda x: x[0], knapsack)))\n",
    "    if len(items) == 0:\n",
    "        print(\"Rucksack:\", knapsack)\n",
    "    else:\n",
    "        if items[0][0] <= k:\n",
    "            knapsack_dfs_ltd(items[1:], k - items[0][0], knapsack + [items[0]])      \n",
    "            print(list(map(lambda x: x[0], knapsack)))\n",
    "        knapsack_dfs_ltd(items[1:], k, knapsack)\n",
    "        print(list(map(lambda x: x[0], knapsack)))            \n",
    "            \n",
    "K = 62\n",
    "items = [(50, 30), (30, 20), (10, 25)]\n",
    "knapsack_dfs_ltd(items, K, [])"
   ]
  },
  {
   "cell_type": "markdown",
   "metadata": {},
   "source": [
    "Für $K=41$ wird der ursprünglich vollständige Binärbaum noch mehr reduziert. \n",
    "<img src=\"img/knapsack_tree-reduce2.png\" width=\"650\"> An der exponentiellen Aufwandsordnung ändert sich jedoch nichts.\n",
    "\n",
    "Nachdem sämtliche Rucksackbelegungen (Blätter), die die Gewichtsbeschränkung respektieren, gefunden wurden, bestimmen wir deren Gesamtwerte durch Summieren der Einzelwerte und ermitteln die Belegung(en) mit dem Maximalwert.\n",
    "\n",
    "Die Modifikation von <code>knapsack_dfs_ltd</code> sind geringfügig: Die gültigen Belegungen werden in der mit <code>validKnapsacks</code> bezeichneten Liste gesammelt.\n",
    "\n",
    "Um zu demonstrieren, dass es mehrere Packmöglichkeiten mit einem maximalen Gesamtwert geben kann, verwenden wir die folgenden drei Gegenstände: 50 (Wert: 45), 30 (Wert: 20), 10 (Wert: 25) bei einer Gewichtsbeschränkung auf $K=52$."
   ]
  },
  {
   "cell_type": "code",
   "execution_count": 65,
   "metadata": {},
   "outputs": [
    {
     "name": "stdout",
     "output_type": "stream",
     "text": [
      "valid knapsacks: [[(50, 45)], [(30, 20), (10, 25)], [(30, 20)], [(10, 25)], []]\n",
      "solutions: [(50, 45), [(30, 20), (10, 25)]] max. value: 45\n"
     ]
    }
   ],
   "source": [
    "#helper function to get the value of a knapsack\n",
    "def value(knapsack):\n",
    "    sum_value = 0\n",
    "    for item in knapsack:\n",
    "        sum_value += item[1]\n",
    "    return sum_value\n",
    "\n",
    "validKnapsacks = []  # global variable\n",
    "\n",
    "def knapsack_dfs_ltd_value(items, k, knapsack):    \n",
    "    #print(list(map(lambda x: x[0], knapsack)))\n",
    "    if len(items) == 0:\n",
    "        #print(\"Rucksack:\", knapsack)\n",
    "        validKnapsacks.append(knapsack)  # changes the value of a global variable!!!\n",
    "    else:\n",
    "        if items[0][0] <= k:\n",
    "            knapsack_dfs_ltd_value(items[1:], k - items[0][0], knapsack + [items[0]])      \n",
    "            #print(list(map(lambda x: x[0], knapsack)))\n",
    "        knapsack_dfs_ltd_value(items[1:], k, knapsack)\n",
    "        #print(list(map(lambda x: x[0], knapsack)))            \n",
    "            \n",
    "K = 52\n",
    "items = [(50, 45), (30, 20), (10, 25)]\n",
    "knapsack_dfs_ltd_value(items, K, [])\n",
    "print(\"valid knapsacks:\", validKnapsacks)\n",
    "\n",
    "solutions = []\n",
    "maxValue = 0\n",
    "for knapsack in validKnapsacks:\n",
    "    if value(knapsack) > maxValue:\n",
    "        solutions = list(knapsack)\n",
    "        maxValue = value(knapsack)\n",
    "    elif value(knapsack) == maxValue:\n",
    "        solutions.append(knapsack)\n",
    "            \n",
    "print(\"solutions:\", solutions, \"max. value:\", maxValue)"
   ]
  },
  {
   "cell_type": "markdown",
   "metadata": {},
   "source": [
    "Im Beispiel sind prinzipiell 5 Rucksackbelegungen möglich aber nur zwei davon, nämlich [50] (Wert: 45) und [30, 10] (Wert: 20+25=45), erzielen den Maximalwert in Höhe von 45."
   ]
  },
  {
   "cell_type": "markdown",
   "metadata": {},
   "source": [
    "#### Anwendungsbeispiel: n-Damenproblem\n",
    "\n",
    "Das $n$-Damenproblem ist ein schachmathematisches Problem und eine Verallgemeinerung des 8-Damenproblems.\n",
    "\n",
    "Die Aufgabe besteht darin, 8 Damen auf einem $8\\times 8$-Schachbrett so zu platzieren, dass keine Dame gemäß den Schachregeln eine andere Dame bedroht, d.h. schlagen kann. Dies bedeutet, dass keine zwei Damen auf der selben Linie (a-h), Reihe (1-8) oder Diagonale stehen dürfen. Im Unterschied zur Begrifflichkeit im Schach gehen wir hier von einer Matrixgestalt aus und bezeichnen die Zeilen und Spalten mit $0, 1, \\ldots, 7$. Es spielt auch keine Rolle, ob das Feld rechts unten ein weißes ist. Im Schach wäre das Pflicht.\n",
    "\n",
    "Eine Lösung für das 8-Dameproblem ist die folgende:\n",
    "\n",
    "<img src=\"http://schinckel.net/images/2008/06/8queens.jpg\" width=\"250\">\n",
    "\n",
    "Das 8-Damenproblem lässt sich sinngemäß auf ein $n$-Damenproblem ausweiten, d.h. $n$ Damen sollen bedrohungsfrei auf einem $n\\times n$-Schachbrett platziert werden.\n",
    "\n",
    "Zur Lösung dieses Problems kann ebenfalls Depth-First-Search eingesetzt werden. \n",
    "\n",
    "Dabei nutzen wir eine Liste mit bis zu $n$-Elementen als Datenstruktur, die am Index $i$ angibt, in welcher Zeile in der $i$-ten Spalte eine Dame platziert wurde. Aufgrund der Tatsache, dass eine Dame ihre komplette Spalte schlägt, ist es trivial, dass sich in jeder Spalte nur höchstens eine Dame befinden kann. Da $n$ Damen auf $n$ Reihen verteilt werden, folgt, dass in jeder Spalte genau eine Dame stehen muss.\n",
    "\n",
    "Die Liste [0, 4, 7, 5, 2, 6, 1, 3] beschreibt folgende Stellung:\n",
    "\n",
    "<img src=\"https://webinstitute.files.wordpress.com/2012/04/8-queens2.png?w=660\" width=\"250\">\n",
    "\n",
    "Sie repräsentiert eine Lösung. Dies kann man leicht überprüfen. Uns geht es jedoch um einen Algorithmus zum Finden *einer* solchen Stellung. Ergänzend fragt man sich natürlich, wie viele Lösungen es für ein gegebenes $n$ gibt.\n",
    "\n",
    "Man beginnt mit einem leeren Schachbrett -- dies wird durch eine leere Liste repräsentiert. Nun soll schrittweise in jeder Spalte eine Dame platziert werden. Dabei werden alle Zeilen von 0 bis $n-1$ systematisch durchprobiert. Dies bedeutet, dass $n$-mal die Tiefensuche mit der entsprechenden Konfiguration aufgerufen wird. Es wird dabei geprüft, ob es sich bei der angegebenen Stellung noch um eine gültige Stellung handelt, d.h. keine Dame kann eine andere Dame schlagen. Ist dies der Fall, so wird der Algorithmus für die nächste Spalte mit den Zeilen 0 bis $n-1$ rekursiv aufgerufen. Handelt es sich nicht um eine gültige Stellung, so wird eine leere Liste als Lösungsmenge zurückgegeben und ein Backtracking ausgeführt: Rückkehr zum letzten Entscheidungspunkt. Dieser Ablauf wird vollständig durch die rekursive Natur von DFS gesteuert.\n",
    "\n",
    "Die hier beschriebene DFS minimiert die Anzahl der zu überprüfenden Stellungen enorm, da - im Gegensatz zu einem Brute-Force-Ansatz, bei dem alle Stellungen durchprobiert werden - nun auch die jeweils folgenden Stellungen ausgeschlossen werden. "
   ]
  },
  {
   "cell_type": "code",
   "execution_count": 66,
   "metadata": {},
   "outputs": [
    {
     "name": "stdout",
     "output_type": "stream",
     "text": [
      "Solutions of the 4 queens problem: [[1, 3, 0, 2], [2, 0, 3, 1]]\n",
      "Number of solutions of the 8 queens problem: 92\n"
     ]
    }
   ],
   "source": [
    "def feasible(setting):\n",
    "    if len(set(setting)) != len(setting):\n",
    "        return False\n",
    "    for i in range(len(setting)):\n",
    "        for j in range(len(setting)):\n",
    "            if j != i and (setting[j] == setting[i] - i + j or setting[j] == setting[i] + i - j):\n",
    "                return False\n",
    "    return True\n",
    "\n",
    "def n_queens(n, setting=[]):\n",
    "    if not feasible(setting):\n",
    "        return []\n",
    "    if len(setting) == n:\n",
    "        return [list(setting)]\n",
    "    solutions = []\n",
    "    for i in range(n):\n",
    "        solutions += n_queens(n, setting + [i])\n",
    "    return solutions\n",
    "\n",
    "print('Solutions of the 4 queens problem:', n_queens(4), end='\\n')\n",
    "print('Number of solutions of the 8 queens problem:', len(n_queens(8)), end='\\n')"
   ]
  },
  {
   "cell_type": "markdown",
   "metadata": {},
   "source": [
    "Rucksack- und $n$-Damenproblem sind zwei klassische Problemstellungen, die mit DFS oftmals effizienter gelöst werden können als mit Brute-Force-Ansatz. Im schlechtesten Fall muss dennoch der gesamte Baum traversiert werden. Dies führt zu exponentiellem Aufwand. Bis heute sieht es so aus, als ob es kein Verfahren gibt, dass diese Problemstellungen besser als mit exponentiellem Aufwand (exakt) löst."
   ]
  }
 ],
 "metadata": {
  "kernelspec": {
   "display_name": "Python 3",
   "language": "python",
   "name": "python3"
  },
  "language_info": {
   "codemirror_mode": {
    "name": "ipython",
    "version": 3
   },
   "file_extension": ".py",
   "mimetype": "text/x-python",
   "name": "python",
   "nbconvert_exporter": "python",
   "pygments_lexer": "ipython3",
   "version": "3.7.3"
  }
 },
 "nbformat": 4,
 "nbformat_minor": 2
}
