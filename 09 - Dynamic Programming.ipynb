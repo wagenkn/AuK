{
 "cells": [
  {
   "cell_type": "markdown",
   "metadata": {},
   "source": [
    "# Dynamisches Programmieren<a name=\"dynProg\"> </a>\n",
    "\n",
    "*Dynamic Programming* (dynamisches Programmieren) kann es ermöglichen, Probleme, für die im naiven Ansatz exponentieller Aufwand nötig wäre, in $\\mathcal{O}(n^3)$ oder sogar $\\mathcal{O}(n^2)$ zu lösen. Das Wort _Programming_ steht hier für Optimierung (ähnlich wie bei Linear Programming). *Optimierung* ist zutreffend, da mit Dynamic Progamming Optimierungsprobleme gelöst werden, also Probleme, bei denen ein Minimum bzw. Maximum gefunden werden soll. Die Methode wurde von Richard Bellmann 1940 zur Lösung von Problemen in der Regelungstechnik angewandt.\n",
    "\n",
    "Wie bei Teile und Herrsche besteht das Ziel darin, ein großes Gesamtproblem in kleinere Subprobleme zu zerlegen und deren Lösungen zu speichern: in einer Hashmap bei Teile und Herrsche und (konzeptionell) in einer Tabelle bei Dynamischem Programmieren. Teile und Herrsche arbeitet top down mit Rekursion und Memoizing. Bei Dynamic Programming geht man *bottom up* vor und berechnet die Lösungen für alle möglichen Subprobleme, auch wenn einige davon zur Lösung des komplexen Ausgangsproblems gar nicht erforderlich sind. (Auf jeden Fall kann dadurch beim Zusammenbau der Gesamtlösung keine Teillösung fehlen!) \n",
    "\n",
    "Ein entscheidender Unterschied zu Divide and Conquer ist die Gültigkeit der *Optimalitätsbedingung* (s.u.) bei Dynamic Programming. Da sich Teilprobleme in mehreren größeren Problemen wiederfinden können, kann durch das Speichern der Lösungen ein beachtlicher Effizienzgewinn erzielt werden.\n",
    "\n",
    "Grundlegende Eigenschaften:\n",
    "\n",
    " - Ein jeweils größeres Problem wird in Teilprobleme zerlegt.\n",
    " - Die optimalen Lösungen der Teilprobleme werden genutzt, um die optimale Lösung eines größeren Problems zu finden.\n",
    " - Die Optimalitätsbedingung (Principle of Optimality) muss gelten, d.h. die optimale Lösung des Gesamtproblems muss sich zwangsläufig aus den optimalen Lösungen der Teilprobleme ergeben.\n",
    " - *Trade space for time* - es wird zusätzlicher Speicherplatz investiert, um den Algorithmus deutlich zu beschleunigen.\n",
    " \n",
    "Das wichtigste Strukturierungsmittel von Dynamic Programming ist eine Tabelle. Die Felder der Tabelle enthalten Werte, die das jeweilige Optimum darstellen. Für deren Berechnung könnte man die mit Teile und Herrsche entwickelte rekursive Verschrift einsetzen. Dynamisches Programmieren sieht jedoch eine zeilenweise Bestimmung der Feldelement vor. Bis auf ein Feld, das sich in den folgenden Beispielen rechts unten befindet, sind alle Werte Zwischenwerte, auf die die Folgezeilenberechnungen zurückgreifen, ohne sie erneut zu berechnen.\n",
    "\n",
    "Diese Charakteristik hebt die Überlegenheit des rekursiv definierten Top-Down-Verfahrens (Teile und Herrsche) gegenüber dem Dynamic Programming Bottom-up-Verfahren hervor, denn die Herstellung der Tabellengestalt ist fehlerbehaftet, während die rekursive Beziehung bereits die Lösung verkörpert. Außerdem werden durch die rekursive Berechnung nicht alle Tabellenfelder berechnet. Um Mehrfachberechnungen auszuschließen wird Memoizing eingesetzt.\n",
    "\n",
    "\n",
    "## Fibonacci-Zahlen\n",
    "\n",
    "Ein Beispiel, für welches *Teile und Herrsche* benutzt werden kann, sind die Fibonacci-Zahlen. Es ist sehr einfach, die rekursive Bildungsvorschrift anzugeben:\n",
    "\n",
    "$$\n",
    "fib(n) = \\begin{cases}\n",
    "    0, & \\text{wenn $n=0$} \\\\\n",
    "    1, & \\text{wenn $n=1$} \\\\\n",
    "    fib(n-1) + fib(n-2), & \\text{sonst}\n",
    "\\end{cases}\n",
    "$$\n",
    "\n",
    "Dies lässt sich auch schnell programmieren:"
   ]
  },
  {
   "cell_type": "code",
   "execution_count": 1,
   "metadata": {
    "scrolled": false
   },
   "outputs": [
    {
     "name": "stdout",
     "output_type": "stream",
     "text": [
      "[0, 1, 1, 2, 3, 5, 8, 13, 21, 34, 55, 89, 144, 233, 377]\n"
     ]
    }
   ],
   "source": [
    "def fib_naive(n):\n",
    "    if n == 0:\n",
    "        return 0\n",
    "    if n == 1:\n",
    "        return 1\n",
    "    return fib_naive(n-1) + fib_naive(n-2)\n",
    "\n",
    "print(list(map(fib_naive, list(range(0, 15)))))"
   ]
  },
  {
   "cell_type": "markdown",
   "metadata": {},
   "source": [
    "### Rekursionsbaum\n",
    "\n",
    "<img src=\"img/fib_tree.png\" width=\"900\" >\n",
    "\n",
    "### Rekursive Berechnung mit Memoizing\n",
    "\n",
    "Analysiert man die Zeitkomplexität des oben beschriebenen Algorithmus, so ergibt sich ein exponentieller Aufwand ($\\Theta(\\phi^n), \\phi>1$), und das für ein Problem, das nicht sehr komplex zu sein scheint. *Memoizing* kann genutzt werden, um die Fibonacci-Zahlen wesentlich schneller zu berechnen.\n",
    "\n",
    "Die Grundidee besteht darin, jeden Wert nur einmal ausrechnen zu müssen. Wurde erstmals eine Fibonacci-Zahl berechnet, so wird sie in einem Zwischenspeicher abgelegt und steht zur Verfügung, sobald sie wieder benötigt wird. Hierfür sollte eine Datenstruktur gewählt werden, mit der man in $\\mathcal{O}(1)$ den Wert für einen Key lesen kann. Natürlich bietet sich eine Hashmap an, die den Parameter $n$ auf $fib(n)$ abbildet, oder ein Array, bei dem die $n$-te Fibonacci-Zahl im Index $n$ steht."
   ]
  },
  {
   "cell_type": "code",
   "execution_count": 2,
   "metadata": {},
   "outputs": [
    {
     "name": "stdout",
     "output_type": "stream",
     "text": [
      "[0, 1, 1, 2, 3, 5, 8, 13, 21, 34, 55, 89, 144, 233, 377]\n"
     ]
    }
   ],
   "source": [
    "dic = {}\n",
    "\n",
    "def fib(n):\n",
    "    if n in dic:\n",
    "        return dic[n]\n",
    "    if n == 0:\n",
    "        f = 0\n",
    "    elif n == 1:\n",
    "        f = 1\n",
    "    else:\n",
    "        f = fib(n-1) + fib(n-2)\n",
    "    dic[n] = f\n",
    "    return f\n",
    "\n",
    "print(list(map(fib, list(range(0, 15)))))"
   ]
  },
  {
   "cell_type": "markdown",
   "metadata": {},
   "source": [
    "Bei der oben beschriebenen Variante handelt es sich um die Top-Down Version des Dynamic Programming-Ansatzes. Man spricht hier von Top-Down, da man zunächst versucht die Wurzel des Rekursionsbaums (in der Abb. `fib(7)`) zu berechnen, dafür dann aber dem rekursiven Abstieg folgt und den Baum bis zu den Blätter entwickelt. Die Blattwerte werden dann nach oben gereicht (rekursiver Aufstieg), um die Fibonacci-Zahl in der Wurzel zu ermitteln."
   ]
  },
  {
   "cell_type": "markdown",
   "metadata": {},
   "source": [
    "<img src=\"img/fib_tree_dp.png\" width=\"300\" >\n",
    "\n",
    "Durch Memoizing fehlen viele Berechnungsäste des Rekursionsbaumes. Er wächst nicht exponentiell, sondern linear.\n",
    "\n",
    "### Dynamisches Programmieren (Bottom-up)\n",
    "\n",
    "Klassische Dynamic Programming ist einen Bottom-Up Algorithmus, also ein Algorithmus, der bei einem Blatt des Rekursionsbaums beginnt und schrittweise die nächstgrößeren Werte berechnet. Bei den Fibonacci-Zahlen ist der Bottom-Up Ansatz relativ intuitiv: Ausgehend von den bereits gegebenen Werten von $fib(0)=0$ und $fib(1)=1$ berechnet man in einer Schleife von 2 bis $n$ schrittweise den jeweils nächstgrößeren Wert. Da zur Berechnung einer Fibonacci-Zahl, die zwei nächstkleineren Fibonacci-Zahlen benötigt werden, ist sichergestellt, dass die jeweils benötigten Werte vorliegen, denn die Schleife arbeitet \"von klein zu groß\".\n",
    "\n",
    "In folgendem nichtrekursiven Programm ist deshalb eine Zählschleife zu sehen. "
   ]
  },
  {
   "cell_type": "code",
   "execution_count": 3,
   "metadata": {},
   "outputs": [
    {
     "name": "stdout",
     "output_type": "stream",
     "text": [
      "[0, 1, 1, 2, 3, 5, 8, 13, 21, 34, 55, 89, 144, 233, 377]\n"
     ]
    }
   ],
   "source": [
    "def fib_bottom_up(n):\n",
    "    if n == 0:\n",
    "        return 0\n",
    "    if n == 1:\n",
    "        return 1\n",
    "    n_minus_2 = 0\n",
    "    n_minus_1 = 1\n",
    "    for i in range(2, n+1):\n",
    "        f = n_minus_1 + n_minus_2\n",
    "        n_minus_2 = n_minus_1\n",
    "        n_minus_1 = f\n",
    "    return f\n",
    "\n",
    "print(list(map(fib_bottom_up, list(range(0, 15)))))"
   ]
  },
  {
   "cell_type": "markdown",
   "metadata": {},
   "source": [
    "In beiden Fällen müssen $n$ Fibonacci-Zahlen berechnet werden, deren Zeitaufwand lediglich in $\\mathcal{O}(1)$ liegen, da die Werte entweder durch die Verwaltung der Rekursion (Aufstieg aus der Tiefe) oder durch die Ausführung der Schleife bereits vorliegen. Somit ergibt sich insgesamt ein Zeitaufwand in $n \\cdot \\mathcal{O}(1) = \\mathcal{O}(n)$."
   ]
  },
  {
   "cell_type": "markdown",
   "metadata": {
    "collapsed": true
   },
   "source": [
    "## Das 0/1-Rucksack-Problem\n",
    "\n",
    "Um das 0/1-Rucksack-Problem zu lösen, kann Dynamic Programming benutzt werden. Für eine *Menge* von $n$ Gegenständen, deren individuelles Gewicht und zugehöriger Wert vorgegeben sind, ist eine Auswahlentscheidung zu treffen: Mitnahme im Rucksack mit Kapazität $K$ oder nicht. Das Ziel besteht darin, den Gesamtwert (Summe aller Werte der eingepackten Gegenstände) zu maximieren, ohne mit der Gewichtssumme die Rucksackkapazität $K$ zu überschreiten.\n",
    "\n",
    "In der folgenden rekursiven Definition des maximalen Gesamtwertes sind $i$ der Index des letzten Gegenstandes in der Gegenstandsliste und $K$ die Kapazität (das maximal zulässige Gewicht, welche der Rucksack tragen kann).\n",
    "\n",
    "$$value(i,k)=\\begin{cases}\n",
    "    0, & \\text{wenn $i=0$}\\\\\n",
    "    value(i-1,k), & \\text{wenn $i>0 \\text{ und } w[i]>k$}\\\\\n",
    "    \\max(value(i-1,k), value(i-1,k-w[i]) + v[i]), & \\text{sonst}\n",
    "  \\end{cases}$$\n",
    "  \n",
    "$i=0$ bedeutet, dass kein einziger Gegenstand in den Rucksack gepackt wird. Der Gesamtwert ist damit gleich 0. Wenn ein weiterer Gegenstand verfügbar ist, mit dessen Aufnahme jedoch die Rucksack-*Rest*kapazität überschritten werden würde, ist der erreichbare Wert gleich dem Wert der Rucksackbefüllung ohne diesen Gegenstand, d.h. nur bis einschließlich Gegenstand $i-1$. (Dies bedeutet nicht, dass sich Gegenstand $i-1$ zwangsläufig im optimalen Rucksack befinden muss.) \n",
    "\n",
    "Wir interpretieren nun die obige rekursive Formel. Wenn der Gegenstand prinzipiell in den Rucksack passt, d.h. die Restkapazität nicht überschreitet, fragt man nach dem größeren der beiden erzielbaren Gesamtwerte:\n",
    "\n",
    "1. Nimmt man den Gegenstand $i$ in den Rucksack auf, ergibt sich der Wert aus der Summe des Wertes dieses Gegenstands und dem erreichbaren Maximalwert des kleineren Rucksacks, der die Gegenstandsliste bis $i-1$ berücksichtigt. Die dafür verbleibende Restkapazität wird dann allerdings um das Gewicht des $i$-ten Gegenstands verringert.\n",
    "\n",
    "2. Nimmt man den Gegenstand $i$ nicht in den Rucksack auf, bleibt es bei dem über die Gegenstände $0$ bis $i-1$ zu ermittelnden max. Gesamtwert, wofür dann allerdings eine unverminderte Restkapazität zur Verfügung steht.\n",
    "\n",
    "Gesucht ist der Wert $value(n,K)$.\n",
    "\n",
    "Ohne dynamisches Programmieren handelt es sich um einen Exponentialzeit-Algorithmus. $k$ und $i$ stellen die Problemgröße dar. Um den Wert eines Problems mit der Größe $i$ zu berechnen, muss bis zu zweimal (im sonst-Fall) der Wert eines Problems der Größe $i-1$ berechnet werden. Das heißt die Zeit zur Berechnung der Lösung verdoppelt sich mit jedem Inkrement von $i$, was zu einer exponentiellen Laufzeit führt. \n",
    "\n",
    "Durch dynamisches Programmieren kann dies verbessert werden. Anstatt das gleiche Problem immer wieder neu zu berechnen, wird die Lösung in einem Dictionary mit dem Parameter-Paar als Schlüssel gespeichert. Memoizing! Nun kann in vielen Fällen, der Wert aus dem Dictionary wiederverwendet, d.h. in $\\mathcal{O}(1)$ gelesen, werden. Da jeder Wert nur einmal berechnet werden muss, ist die Zeit, um das Gesamtproblem zu lösen, das Produkt aus der Anzahl der Teilprobleme und der Zeit für deren Lösung. \n",
    "\n",
    "Die Zahl der Teilprobleme ist durch die Anzahl $nK$ aller möglichen Tupel $\\{1,\\ldots,n\\}\\times\\{0,\\ldots,K\\}$ beschränkt. Folglich liegt die Laufzeit des Problems in $\\mathcal{O}(nK) \\cdot \\mathcal{O}(1) = \\mathcal{O}(nK)$. \n",
    "\n",
    "Dies lässt zunächst vermuten, dass wir es geschafft haben, einen Polynomialzeit-Algorithmus für das Rucksackproblem zu entwickeln. Das trifft im Allgemeinen jedoch nicht zu, denn der Wert der Zahl $K$ gehört zur Problemgröße. Das ist sinnvoll, da mit steigendem $n$ auch $K$ anwachsen muss, um eine sinnvolle Problemstellung vorzulegen. \n",
    "\n",
    "Da Zahlen in einem Computer jedoch nicht unär, sondern mit der Basis 2, dargestellt werden, verdoppelt sich die Größe von $K$ mit jedem Hinzufügen einer Ziffer. Auf die Stelligkeit bezogen hat der Algorithmus also eine Komplexität von $\\mathcal{O}(n \\cdot 2^k)$. Man spricht in diesem Fall von einem Algorithmus mit **pseudo-polynomialer Laufzeit**, die als exponentiell angesehen werden muss. \n",
    "\n",
    "Im Gegensatz zur Berechnung der Fibonacci-Zahlen bleibt das 0/1-Rucksackproblem ein solches, für dessen Lösung bisher kein Polynomzeit-Algorithmus bekannt ist. Die Chancen einen solchen zu finden, stehen leider sehr schlecht."
   ]
  },
  {
   "cell_type": "code",
   "execution_count": 4,
   "metadata": {},
   "outputs": [
    {
     "name": "stdout",
     "output_type": "stream",
     "text": [
      "Mit Memoization:\n",
      "Ergebnis: 183\n",
      "Funktionsaufrufe: 502\n",
      "\n",
      "Ohne Memoization:\n",
      "Ergebnis: 183\n",
      "Funktionsaufrufe: 2026\n"
     ]
    }
   ],
   "source": [
    "import functools\n",
    "\n",
    "K = 120 # maximum capacity\n",
    "\n",
    "items = [(13, 19), (11, 20), (17, 23), (15, 21), (16, 27), (14, 25), (18, 25), \n",
    "         (10, 18), (19, 24), (12, 17)] # list of weight-value pairs of all items\n",
    "\n",
    "n = len(items) - 1 # index of last item\n",
    "\n",
    "weights = []\n",
    "values = []\n",
    "\n",
    "calls = 0 # global variable to count functional calls\n",
    "\n",
    "for item in items:\n",
    "    weights.append(item[0])\n",
    "    values.append(item[1])\n",
    "\n",
    "\n",
    "# memoize decorator\n",
    "def memoize(func):\n",
    "    func.cache = {}\n",
    "\n",
    "    @functools.wraps(func)\n",
    "    def memoized_func(*args, **kwargs):\n",
    "        key = str(args) + str(kwargs)\n",
    "        if key not in func.cache:\n",
    "            func.cache[key] = func(*args, **kwargs)\n",
    "        return func.cache[key]\n",
    "\n",
    "    return memoized_func\n",
    "\n",
    "\n",
    "@memoize\n",
    "def value_memo(i, k):\n",
    "    global calls\n",
    "    calls += 1\n",
    "    if i < 0:\n",
    "        return 0\n",
    "    if weights[i] > k:\n",
    "        return value_memo(i - 1, k)\n",
    "    return max(value_memo(i - 1, k), value_memo(i - 1, k - weights[i]) + values[i])\n",
    "\n",
    "\n",
    "def value(i, k):\n",
    "    global calls\n",
    "    calls += 1\n",
    "    \n",
    "    if i < 0:\n",
    "        return 0\n",
    "    if weights[i] > k:\n",
    "        return value(i - 1, k)\n",
    "    return max(value(i - 1, k), value(i - 1, k - weights[i]) + values[i])\n",
    "\n",
    "\n",
    "print('Mit Memoization:')\n",
    "print('Ergebnis: ' + str(value_memo(n, K)))\n",
    "print('Funktionsaufrufe: ' + str(calls))\n",
    "calls = 0\n",
    "print()\n",
    "print('Ohne Memoization:')\n",
    "print('Ergebnis: ' + str(value(n, K)))\n",
    "print('Funktionsaufrufe: ' + str(calls))"
   ]
  },
  {
   "cell_type": "markdown",
   "metadata": {},
   "source": [
    "Interessiert man sich für alle in den Rucksack eingepackten Gegenstände, so ist eine Rückrechnung erforderlich. Diese kann aus dem rekursiven Ablauf der Berechnung gewonnen werden."
   ]
  },
  {
   "cell_type": "markdown",
   "metadata": {},
   "source": [
    "Das folgende Programm arbeitet mit einer größeren Anzahl (20) von \"Zufallsgegenständen\". "
   ]
  },
  {
   "cell_type": "code",
   "execution_count": 5,
   "metadata": {
    "scrolled": true
   },
   "outputs": [
    {
     "data": {
      "text/plain": [
       "<Figure size 1100x800 with 1 Axes>"
      ]
     },
     "metadata": {},
     "output_type": "display_data"
    }
   ],
   "source": [
    "import random as rnd\n",
    "import matplotlib.pyplot as plt\n",
    "from matplotlib.ticker import MaxNLocator\n",
    "import numpy as np\n",
    "\n",
    "\n",
    "def rand_items(n):\n",
    "    items = []\n",
    "    for i in range(0, n):\n",
    "        items.append((rnd.randint(1, 100), rnd.randint(1, 100)))\n",
    "    return items\n",
    "\n",
    "\n",
    "calls_with_memo = []\n",
    "calls_without_memo = []\n",
    "\n",
    "for i in range(2, 21):\n",
    "    calls1 = 0\n",
    "    calls2 = 0\n",
    "    \n",
    "    for j in range(0, 5):\n",
    "        K = 20 * i\n",
    "        items = rand_items(i)\n",
    "        n = len(items) - 1\n",
    "        global weights\n",
    "        weights = []\n",
    "        global values\n",
    "        values = []\n",
    "        global calls\n",
    "        calls = 0\n",
    "        for item in items:\n",
    "            weights.append(item[0])\n",
    "            values.append(item[1])\n",
    "        value_memo(n, K)\n",
    "        calls1 += calls\n",
    "        calls = 0\n",
    "        value(n, K)\n",
    "        calls2 += calls\n",
    "        calls = 0\n",
    "    calls_with_memo.append(calls1 / 5)\n",
    "    calls_without_memo.append(calls2 / 5)\n",
    "    \n",
    "x = np.arange(2, 21)\n",
    "y1 = np.asarray(calls_with_memo)\n",
    "y2 = np.asarray(calls_without_memo)\n",
    "    \n",
    "fig = plt.figure(figsize=(11,8))\n",
    "ax1 = fig.add_subplot(111)\n",
    "\n",
    "ax1.plot(x, y1, label='Funktionsaufrufe mit Memoization')\n",
    "ax1.plot(x, y2, label='Funktionsaufrufe ohne Memoization')\n",
    "ax1.xaxis.set_major_locator(MaxNLocator(integer=True))\n",
    "\n",
    "plt.legend()\n",
    "plt.show()"
   ]
  },
  {
   "cell_type": "markdown",
   "metadata": {},
   "source": [
    "Wie dieses Beispiel illustriert, ist die top-down-Verarbeitung, d.h. Verwendung von Rekursion in Verbindung mit Memoizing, schon deshalb eine ernst zu nehmende Alternative zur klassischen bottom-up-Strategie (mit Schleifen), da man den rekursiven Lösungsansatz schnell findet und dessen fehleranfällige Transformation in ein iteratives Verfahren nicht braucht."
   ]
  },
  {
   "cell_type": "markdown",
   "metadata": {},
   "source": [
    "## Bellman-Ford-Algorithmus<a name=\"BellFordAlg\"> </a>\n",
    "\n",
    "Dynamic Programming kann auch zur Lösung des *'Single-Source Shortest Path Problem'* angewandt werden: Gesucht ist der kürzeste Weg von einer Quelle zu einem anderen Knoten in einem Graphen. Der Bellman-Ford-Algorithmus wurde in den Jahren 1956-1958 von Richard Bellman, Lester Ford und Edward F. Moore veröffentlicht. Dieser Algorithmus und darauf aufbauende Verfahren sind prinzipiell für das Routing in Netzwerken geeignet.\n",
    "\n",
    "Da es sich um Dynamic Programming handelt, stellt sich die Frage, was die Subprobleme sind. Angenommen man hat einen Pfad von $v$ nach $u$ mit $v=w_0, w_1,..., w_{k-1}, w_k = u$, so ist offensichtlich, dass $w_0, w_1, ..., w_{k-1}$ der kürzeste Pfad zu $w_{k-1}$ ist. Es folgt, dass das Subproblem der kürzeste Weg zu einem der benachbarten Knoten ist, unter Nutzung von einer Kante weniger.\n",
    "\n",
    "__*Beweis.*__ Nehmen wir an, dass $w_0,...,w_{k-1}$ nicht der kürzeste Weg zwischen $w_0$ und $w_{k-1}$ ist, so gibt es einen Pfad $w_0,w'_1,...,w'_j,w_{k-1}$ mit einer kürzeren Länge. Dadurch hat auch $w_0,w'_1,...,w'_j,w_{k-1},w_k$ eine kürzere Länge als $w_0,...,w_{k-1},w_k$. Dies widerspricht jedoch der Bedingung, dass $w_0,...,w_{k-1},w_k$ der kürzeste Pfad von $w_0$ nach $w_k$ ist.\n",
    "<div style=\"text-align: right; font-size: 24px;\">&#9633;</div>\n",
    "\n",
    "### Top down\n",
    "\n",
    "Mit dieser Erkenntnis lässt sich die folgende rekursive Gleichung aufstellen. $v$ ist der Knoten, zu dem der kürzeste Pfad gefunden werden soll. $v.adj$ sind die Elemente der Adjazenz-Liste von $v$. $s$ ist der Startknoten. $k$ ist die Anzahl der maximal zu benutzenden Kanten und $dis(u,v)$ ist das Kantengewicht von $(u,v)$, d.h. die Entfernung (Distanz) zwischen $u$ und $v$:\n",
    "\n",
    "$$bf(v,k)=\\begin{cases}\n",
    "    0, & \\text{wenn $v=s$}.\\\\\n",
    "    \\infty, & \\text{wenn $v \\neq s \\text{ und } k=0$}.\\\\\n",
    "    \\underset{u \\in v.adj}{\\text{min}}(dis(u, v) + bf(u, k-1)), & \\text{sonst}.\n",
    "  \\end{cases}$$\n",
    "  \n",
    "Handelt es sich bei $v$ um den Startknoten $s$, so sind die Kosten, um zu $v$ zu gelangen 0. Beträgt die Anzahl der maximal zu benutzenden Kanten 0 und handelt es sich bei $v$ nicht um $s$, so ist $v$ nicht erreichbar und die Funktion gibt $\\infty$ zurück. Ansonsten ergibt sich die Lösung aus der kleinsten Summe aus dem Gewicht (Distanz) zu einem der benachbarten Knoten und dem kürzesten Weg dieses benachbarten Knotens unter der Verwendung von $k-1$ Kanten.\n",
    "\n",
    "Während beim 0/1-Rucksackproblem nicht jeder Gegenstand zwangsläufig in den Rucksack gepackt werden konnte, muss hier in jedem Schritt einer der adjazenten Knoten auch wirklich genommen werden.\n",
    "\n",
    "__Beispiel:__\n",
    "\n",
    "<img src=\"img/bellman_ford_example.png\" width=\"300\">\n",
    "In folgendem Programm werden diese Beispieldaten verwendet."
   ]
  },
  {
   "cell_type": "code",
   "execution_count": 6,
   "metadata": {},
   "outputs": [
    {
     "name": "stdout",
     "output_type": "stream",
     "text": [
      "-2\n"
     ]
    }
   ],
   "source": [
    "class Node:\n",
    "    def __init__(self, id):\n",
    "        self.id = id\n",
    "        self.adj = {}\n",
    "\n",
    "    def add(self, node, weight):\n",
    "        self.adj[node] = weight\n",
    "\n",
    "\n",
    "def bellman_ford(v, k):\n",
    "    if v == source:\n",
    "        return 0\n",
    "    if k == 0:\n",
    "        return float('inf')\n",
    "    min_dis = float('inf')\n",
    "    for u, w in v.adj.items():\n",
    "        dis = w + bellman_ford(u, k-1)\n",
    "        if dis < min_dis:\n",
    "            min_dis = dis\n",
    "    return min_dis\n",
    "\n",
    "a = Node('a')\n",
    "b = Node('b')\n",
    "c = Node('c')\n",
    "d = Node('d')\n",
    "e = Node('e')\n",
    "\n",
    "a.add(b, -1)\n",
    "a.add(c, 4)\n",
    "b.add(c, 3)\n",
    "b.add(d, 2)\n",
    "b.add(e, 2)\n",
    "d.add(b, 1)\n",
    "d.add(c, 5)\n",
    "e.add(d, -3)\n",
    "\n",
    "\n",
    "source = d\n",
    "print(bellman_ford(a, 5))"
   ]
  },
  {
   "cell_type": "code",
   "execution_count": 7,
   "metadata": {},
   "outputs": [
    {
     "name": "stdout",
     "output_type": "stream",
     "text": [
      "-2\n"
     ]
    }
   ],
   "source": [
    "@memoize\n",
    "def bellman_ford_memo(v, k):\n",
    "    if v == source:\n",
    "        return 0\n",
    "    if k == 0:\n",
    "        return float('inf')\n",
    "    min_dis = float('inf')\n",
    "    for u, w in v.adj.items():\n",
    "        dis = w + bellman_ford_memo(u, k-1)\n",
    "        if dis < min_dis:\n",
    "            min_dis = dis\n",
    "    return min_dis\n",
    "\n",
    "print(bellman_ford_memo(a, 5))"
   ]
  },
  {
   "cell_type": "markdown",
   "metadata": {},
   "source": [
    "### Bottom Up\n",
    "\n",
    "<a href=\"https://studyflix.de/informatik/bellman-ford-algorithmus-1294\">Video</a>\n",
    "\n",
    "Auch für den Bellman-Ford-Algorithmus lässt sich ein Bottom Up-Ansatz angeben. Dabei werden zunächst der Startknoten mit der Distanz 0 und alle anderen Knoten mit der Distanz $\\infty$ initialisiert. $\\infty$ dient dabei quasi als Platzhalter und steht für \"nicht erreichbar\". \n",
    "\n",
    "Danach werden alle Kanten $(u, v) \\in E$ durchiteriert und ein Wert für die Distanz zum Knoten $v$ zugewiesen. Dieser Wert ist entweder die Summe aus der bisher gefundenen Distanz zu $u$ und dem Gewicht (der Distanz) zwischen $u$ und $v$ oder dem bisherigen Wert für die Distanz zu $v$. Dabei wird das Minimum, also der kleinere der beiden Werte, genommen, da der kürzeste Weg gefunden werden soll. \n",
    "\n",
    "Dieser Vorgang wird $\\lvert V \\rvert - 1$ mal wiederholt, da der kürzeste Weg zwischen zwei Knoten maximal über $\\lvert V \\rvert - 1$ Knoten verläuft, da er sonst mehrfach durch den gleichen Knoten gehen würde und es sich somit um einen Kreis innerhalb des Weges handelt, welcher nicht der kürzeste Weg sein kann. Sollte sich herausstellen, dass für $\\lvert V \\rvert$ Iterationen sich kürzere Wege ergeben als nach $\\lvert V \\rvert - 1$ Iterationen, so muss es einen negativen Kreis (negative weight cycle) innerhalb des Graphen geben. Andernfalls wurden die kürzesten Wege ausgehend vom Startknoten gefunden und es existiert kein negativer Kreis im Graphen.\n",
    "\n",
    "Für die Implementation dieser Variante des Bellman-Ford Algorithmus wird nicht die oben definierte Datenstruktur Node, sondern eine Liste aller Knoten (identifiziert als String) und eine Liste aller Kanten genutzt.\n",
    "\n",
    "<img src=\"img/bellman_ford_example.png\" width=\"300\">"
   ]
  },
  {
   "cell_type": "code",
   "execution_count": 8,
   "metadata": {
    "scrolled": true
   },
   "outputs": [
    {
     "name": "stdout",
     "output_type": "stream",
     "text": [
      "{'a': (-2, 'b'), 'b': (-1, 'e'), 'c': (inf, None), 'd': (0, 'd'), 'e': (-3, 'd')}\n"
     ]
    }
   ],
   "source": [
    "class Edge:\n",
    "    def __init__(self, u, v, weight):\n",
    "        self.u = u\n",
    "        self.v = v\n",
    "        self.weight = weight\n",
    "\n",
    "        \n",
    "def bellman_ford_bottom_up(nodes, edges, source):\n",
    "    dis = {}\n",
    "    #initializing distances\n",
    "    for node in nodes:\n",
    "        if node == source:\n",
    "            dis[node] = (0, source)\n",
    "        else:\n",
    "            dis[node] = (float('inf'), None)\n",
    "\n",
    "    for i in range(len(nodes) - 1):\n",
    "        for edge in edges:\n",
    "            if (dis[edge.u][0] + edge.weight < dis[edge.v][0]):\n",
    "                dis[edge.v] = (dis[edge.u][0] + edge.weight, edge.u)\n",
    "    \n",
    "    for edge in edges:\n",
    "        if (dis[edge.u][0] + edge.weight < dis[edge.v][0]):\n",
    "            return None #there is a negative weight cycle\n",
    "    return dis #otherwise return (distance, previous node)-dictionary\n",
    "\n",
    "\n",
    "nodes = ['a', 'b', 'c', 'd', 'e']\n",
    "edges = [Edge('b', 'a', -1), Edge('c', 'a', 4), Edge('c', 'b', 3), Edge('d', 'b', 2), Edge('e', 'b', 2), \n",
    "         Edge('b', 'd', 1), Edge('c', 'd', 5), Edge('d', 'e', -3)]\n",
    "\n",
    "print(bellman_ford_bottom_up(nodes, edges, 'd'))"
   ]
  },
  {
   "cell_type": "markdown",
   "metadata": {},
   "source": [
    "Dieser Ausgabe lässt sich entnehmen, dass der kürzeste Weg von d nach a das Gewicht -2 hat: d (-3) e (2) b (-1) a. -3 + 2 -1 = -2.\n",
    "\n",
    "Durch die zwei Schleifen ist ersichtlich, dass der Bellman-Ford Algorithmus eine Laufzeit von $\\mathcal{O}(\\lvert V \\rvert \\cdot \\lvert E \\rvert)$ hat. Damit ist er ineffizienter als vergleichbare Algorithmen, wie der **Dijkstra Algorithmus**, jedoch hat Bellman-Ford den Vorteil, dass er mit negativen Gewichten der Kanten umgehen kann und das korrekte Ergebnis liefert. \n",
    "\n",
    "Sucht man die kürzesten Wege zwischen allen Knotenpaaren eines Graphen, liegt der Zeitaufwand in $\\mathcal{O}(|V|^2\\cdot |E|)$. Dann ist ggf. der **Floyd-Warshall-Algorithmus** vorzuziehen: Er basiert auch auf Dynamischem Programmieren und hat einen Aufwand in $\\mathcal{O}(|V|^3)$."
   ]
  },
  {
   "cell_type": "markdown",
   "metadata": {},
   "source": [
    "## Rundreiseproblem\n",
    "\n",
    "Ein ganz ähnliches Problem wie die Kürzeste-Wege-Fragestellung ist die Frage nach der kürzesten Rundreise, die alle vorgegebenen Städte genau einmal besucht. Es ist unter dem Namen *Traveling Salesman Problem* (TSP) bekannt. Die Planung solcher Touren ist sicher nicht nur für die Auftrittsplanung von Künstlern und für Reiseunternehmen mit logistischem Anspruch von Interesse.\n",
    "\n",
    "Intuitiv stellt sich die Vermutung ein, dass es sich hierbei um einen Sonderfall des o.g. Problems handelt, für das sich eine Lösung mit den vorgestellten bzw. genannten Algorithmen in $\\mathcal{O}(n^3)$ oder sogar $\\mathcal{O}(n^2)$ ergibt. $n$ ist die Anzahl der beteiligten Städte. Die Intuition trügt: Bis heute ist kein Verfahren bekannt, dass das Rundreiseproblem mit weniger als exponentiellem Zeitaufwand (exakt) löst. Nur Näherungsverfahren schaffen das.\n",
    "\n",
    "Leider kann dynamisches Programmieren an dieser Tatsache nichts ändern. Wir prüfen die Anwendbarkeit: In der Tat ist die Optimalitätsbedingung erfüllt. Ein Weg, der o.B.d.A. bei Stadt $i=1$ beginnt, direkt zu der $e_{i,j}$ entfernten Stadt $j$ führt und danach auf dem Weg zurück zu Stadt $1$ alle Städte aus $\\{2,3,4,\\ldots,n\\}\\setminus\\{j\\}$ genau einmal besucht, ist minimal, wenn eben dieser Weg von $j$ nach $1$ minimal ist.  \n",
    "\n",
    "Auf dieser Basis können wir ein Top-Down-Lösung wie folgt beschreiben. Natürlich gehen wir davon aus, dass eine Adjazenzmatrix mit den entsprechenden Entfernungen $e$ zwischen je zwei Stäten vorliegt. Mit $S=\\{2,3,4,\\ldots, n\\}$ gilt\n",
    "\n",
    "$$weg(i,S)=\\begin{cases}\n",
    "    e_{i,1}\\ , & \\text{wenn $S=\\emptyset$}.\\\\\n",
    "    \\min_{j\\in S}(e_{i,j} + weg(j, S\\setminus\\{j\\}), & \\text{ sonst}.\\\\\n",
    "  \\end{cases}$$\n",
    "  \n",
    "Der Funktionswert $weg(1,S)$ liefert den kürzesten Rundweg.\n",
    "  \n",
    "Für ein iteratives Verfahren einer Bottom-up-Lösung organisiert man eine Tabelle mit $n$ Spalten, nämlich für $2,3,4,\\ldots,n,1$, und $2^{n-1}$ Zeilen für alle möglichen Städtemengen, d.h. für die Potenzmenge $\\wp(S)$. Das ergebnistragende Feld in der Tabelle ist das in Zeile $\\{2,3,4,\\ldots,n\\}$, Spalte $1$. Wenn man zur Berechnung jedes Tabellenfeldes einen linearen Aufwand veranschlagt, ergibt sich insgesamt $\\mathcal{O}(n^22^n)$.\n"
   ]
  },
  {
   "cell_type": "markdown",
   "metadata": {},
   "source": [
    "## Geldwechselproblem\n",
    "\n",
    "Beim Geldwechselproblem geht es darum, einem Kunden für die Restgeldbetrag-Rückgabe möglichst wenige Münzen heraus zu geben. Es wird also zunächst nach allen möglichen Münzkombinationen, die einen vorgegebenen Betrag ergeben, gefragt. Unter diesen sucht man dann die mit den wenigsten Geldstücken heraus. Dabei ist eine Liste aller verfügbaren (positiven) Münzprägungen (1ct, 2ct, 5ct, 10ct, 50ct, 1€, 2€) gegeben. Es wird angenommen, dass alle Münzwerte beliebig oft zur Verfügung stehen.\n",
    "\n",
    "Für die Lösung des Geldwechselproblems gibt es auch ein <a href=\"11 - Greedy Algorithmen.ipynb#geldwechsel\">Greedy-Verfahren</a>.\n",
    "\n",
    "Ein entsprechender Dynamic-Programming-Ansatz<a name=\"geldwechsel\"> </a> ergibt sich folgendermaßen:\n",
    "Angenommen, man möchte 54ct wechseln und die verfügbaren Münzprägungen sind: 20ct, 10ct, 5ct und 2ct. Wir betrachten nur die erste dieser vier Münzprägungen, nämlich 20ct. Zunächst könnte man sich entscheiden, kein 20ct-Stück zu benutzen und lediglich die in der sortierten Liste der Münzprägungen nachfolgenden Münzstücke verwenden. Man könnte sich auch entscheiden, genau ein 20ct-Stück zu verwenden. In diesem Fall müssen mit den restlichen Münzen nur noch 34ct gewechselt werden. Genauso könnten genau zwei 20ct-Stücke verwendet werden und entsprechend 14ct mit den restlichen Münzen zusammengelegt werden. Die Möglichkeit, drei 20ct-Stücke zu verwenden, steht nicht zur Verfügung, da dies bereits die 54ct überschreiten würde. \n",
    "\n",
    "Allgemein gilt: Sei $N$ der zu wechselnde Betrag und $k$ der Wert der zu untersuchenden Münze, so kann die Münze $0$-mal bis $n = \\left\\lfloor\\frac{N}{k}\\right\\rfloor$-mal verwendet werden. \n",
    "\n",
    "__Hinweis.__ \n",
    "$f: \\mathbb{R} \\to \\mathbb{Z}$ mit $f(x) = \\lfloor x \\rfloor$ beschreibt die *floor*-Funktion, bei der die Zahl auf die nächst kleinere ganze Zahl abgerundet wird.\n",
    "\n",
    "Jetzt müssen für die rekursive Definition noch die Elementarfälle gebildet werden. Beträgt der zu wechselnde Betrag $N = 0$, so gibt es genau eine Möglichkeit, diesen Betrag zu bilden, nämlich indem man keine Münze verwendet. Ist der zu wechselnde Betrag $N$ negativ, so gibt es keine Möglichkeit diesen Betrag zu bilden, da alle Münzen einen positiven Wert haben."
   ]
  },
  {
   "cell_type": "code",
   "execution_count": 9,
   "metadata": {
    "scrolled": false
   },
   "outputs": [
    {
     "name": "stdout",
     "output_type": "stream",
     "text": [
      "  N  coin change ways\n",
      "  0                 1\n",
      "  1                 1\n",
      "  2                 2\n",
      "  3                 2\n",
      "  4                 3\n",
      "  5                 4\n",
      "  6                 5\n",
      "  7                 6\n",
      "  8                 7\n",
      "  9                 8\n",
      " 10                11\n",
      " 11                12\n",
      " 12                15\n",
      " 13                16\n",
      " 14                19\n",
      " 15                22\n",
      " 16                25\n",
      " 17                28\n",
      " 18                31\n",
      " 19                34\n",
      " 20                41\n"
     ]
    }
   ],
   "source": [
    "import pandas as pd\n",
    "\n",
    "dic = {}\n",
    "coins = [1, 2, 5, 10, 20, 50]\n",
    "\n",
    "\n",
    "def coin_change(N, i):\n",
    "    if N == 0:\n",
    "        return 1\n",
    "    if N < 0 or i >= len(coins):\n",
    "        return 0\n",
    "    if (N, i) in dic:\n",
    "        return dic[N, i]\n",
    "    ways = 0\n",
    "    while N >= 0:\n",
    "        ways += coin_change(N, i+1)\n",
    "        N -= coins[i]\n",
    "    dic[N, i] = ways\n",
    "    return ways\n",
    "\n",
    "\n",
    "print(pd.DataFrame({'N': list(range(21)), 'coin change ways': list(map(lambda n: coin_change(n, 0), list(range(21))))})\n",
    "      .to_string(index=False))"
   ]
  },
  {
   "cell_type": "code",
   "execution_count": null,
   "metadata": {},
   "outputs": [],
   "source": []
  }
 ],
 "metadata": {
  "kernelspec": {
   "display_name": "Python 3",
   "language": "python",
   "name": "python3"
  },
  "language_info": {
   "codemirror_mode": {
    "name": "ipython",
    "version": 3
   },
   "file_extension": ".py",
   "mimetype": "text/x-python",
   "name": "python",
   "nbconvert_exporter": "python",
   "pygments_lexer": "ipython3",
   "version": "3.7.3"
  }
 },
 "nbformat": 4,
 "nbformat_minor": 2
}
