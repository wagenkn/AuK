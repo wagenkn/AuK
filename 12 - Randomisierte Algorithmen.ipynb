{
 "cells": [
  {
   "cell_type": "markdown",
   "metadata": {
    "collapsed": true
   },
   "source": [
    "# Randomisierte Algorithmen\n",
    "\n",
    "Algorithmen, in denen der Zufall eine Rolle spielt, werden *randomisiert*, *probabilistisch* oder *stochastisch* genannt. Dem Einsteiger stellt sich dabei zunächst die Frage, wie der Zufall effektiv bei der Lösung eines Problems helfen kann. Der \"Zufallsregen\" zeigt das sehr eindrucksvoll.\n",
    "\n",
    "## Bestimmung von $\\pi$\n",
    "\n",
    "Die Kreiszahl $\\pi$ ist eine mathematische Konstante und definiert das Verhältnis zwischen Umfang $u$ und Durchmesser $d$ eines Kreises.\n",
    "\n",
    "$$ \\pi = \\frac{u}{d} $$\n",
    "\n",
    "Die Fläche $A$ eines Kreises ist definiert durch\n",
    "\n",
    "$$ A = \\frac{\\pi}{4} d^2 $$\n",
    "\n",
    "wobei $d^2$ nichts anderes als die Fläche des den Kreis umgebenden Quadrats ist.\n",
    "Die Zahl $\\pi$ kann also berechnet werden durch\n",
    "\n",
    "$$ \\pi = 4 \\frac{A}{d^2} $$\n",
    "\n",
    "wobei $\\frac{A}{d^2}$ einfach das Verhältnis zwischen den Flächeninhalten von Kreis und Quadrat ist.\n",
    "\n",
    "<img src=\"img/Rand_CircleQuad.png\" width=\"200\">\n",
    "<center>Abb. 1: $\\pi$ durch Zufallsregen</center>\n",
    "\n",
    "Zur Bestimmung dieses Verhältnisses kann man es nun zufällig Punkte (Koordinaten) *regnen lassen*. Im Abb. 1 sind z.B. von den insgesamt 14 *Tropfen* zufällig 11 innerhalb des Kreises gelandet. Da die Flächen im Verhältnis $\\frac{\\pi}{4}$ stehen, müssen zufällig positionierte Koordinaten auch in eben diesem Verhältnis auf den Flächen verteilt sein. Für das Beispiel ergibt sich:\n",
    "\n",
    "$$ \\frac{11}{14}\\cdot4 = 3,142857143... \\approx \\pi = 3,141592654... $$\n",
    "\n",
    "Mit einer größeren Anzahl von Zufallstropfen sollte sich das Verhältnis stabilisieren und an $\\pi$ annähern.\n",
    "\n",
    "### Implementation\n",
    "\n",
    "Im Folgenden wird nur ein Viertel des Einheitskreises und dessen umgebendes Quadrat betrachtet. Da beide Flächen um den gleichen Prozentsatz verkleinert werden, hat das keinen Einfluss auf das Verhältnis der Flächen zueinander. Da für x und y nur Gleitkommazahlen im Intervall $[0,1]$ generiert werden, liegen alle Koordinaten innerhalb des Quadrats. Für jede Koordinate $(x,y)$ innerhalb des Kreises gilt $x^2+y^2 \\leq 1$ . So kann sehr einfach ermittelt werden, ob sich ein zufälliger Tropfen innerhalb des Viertelkreises befindet."
   ]
  },
  {
   "cell_type": "code",
   "execution_count": 136,
   "metadata": {},
   "outputs": [
    {
     "name": "stdout",
     "output_type": "stream",
     "text": [
      "RealPi: 3.141592653589793\n",
      "Approx: 3.13972\n",
      "Approx: 3.14003\n",
      "Approx: 3.140644\n",
      "Approx: 3.141383\n",
      "Approx: 3.141384\n",
      "Approx: 3.141642\n",
      "Approx: 3.141386857142857\n",
      "Approx: 3.1412535\n",
      "Approx: 3.141421777777778\n"
     ]
    }
   ],
   "source": [
    "import random\n",
    "import math\n",
    "\n",
    "def calcPi():\n",
    "    print(\"RealPi:\",math.pi)\n",
    "    cntCircle = 0\n",
    "    cntRect = 0\n",
    "    for i in range(1, 10000000):\n",
    "        x = random.random()*-1+1\n",
    "        y = random.random()*-1+1\n",
    "        if x * x + y * y <= 1:\n",
    "            cntCircle += 1\n",
    "        cntRect += 1\n",
    "        if i % 1000000 == 0:\n",
    "            print(\"Approx:\",4 * cntCircle / cntRect)\n",
    "\n",
    "calcPi()"
   ]
  },
  {
   "cell_type": "markdown",
   "metadata": {},
   "source": [
    "Bei genauer Betrachtung wird man feststellen, dass selbst wenn dieses Programm sehr lange weiter laufen würde, niemals exakt $\\pi$ das Ergebnis wäre. Zum einen ist das darauf zurückzuführen, dass die Gleitkommazahlen mit denen hier gerechnet wird, nur eine begrenzte Genauigkeit aufweisen. Bei der Berechnung müssen intern also Rundungen durchgeführt werden, die zu einer Verfälschung des Ergebnisses führen. Zum anderen liegt die Ursache in der Berechnung der Zufallszahlen selbst."
   ]
  },
  {
   "cell_type": "markdown",
   "metadata": {},
   "source": [
    "## Zufallszahlen\n",
    "\n",
    "Das Ergebnis unter Einbeziehung des Zufallsregens beruht im wesentlichen darauf, dass die generierten Zufallszahlen auch wirklich zufällig sind. In korrekt arbeitenden Computersystemen gibt es aber generell keinen echten Zufall (eine Ausnahme bilden System die physikalische Werte messen). Zurecht darf also die Frage gestellt werden, was das Ergebnis des Aufrufs von `random()` dann eigentlich ist.\n",
    "\n",
    "Genau genommen sind diese Zahlen nämlich keine zufälligen Zahlen, denn sie werden durch einen deterministischen Algorithmus berechnet. Im Allgemeinen spricht man hier von **Pseudozufallszahlen**. Eine sehr einfacher Zufallszahlengenerator ist der **lineare Kongruenzgenerator**.\n",
    "\n",
    "$$ z_n = (a \\cdot z_{n-1}+b)\\bmod c \\text{ für } n\\geq 1 $$\n",
    "\n",
    "Die natürlichen Zahlen $a \\in \\{1,\\dots, c-1\\}$, $b \\in \\{0,\\dots, c-1\\}$ und $c \\geq 2$ sind Konstanten, die die Güte des Generators beeinflussen. Die rekursive Notation weist darauf hin, dass die berechnete Zahl $z_n$ von der vorher berechneten Zahl $z_{n-1}$ abhängig ist. Ausgehend von einem beliebigen $z_0 \\in \\mathbb{N}$ kann hier also eine Folge berechnet werden, deren einzelne Glieder bei geeigneter Konstantenwahl in der Tat zufällig aussehen."
   ]
  },
  {
   "cell_type": "code",
   "execution_count": 137,
   "metadata": {},
   "outputs": [
    {
     "name": "stdout",
     "output_type": "stream",
     "text": [
      "0 : 1234\n",
      "1 : 233786\n",
      "2 : 99778\n",
      "3 : 181482\n",
      "4 : 58162\n",
      "5 : 3866\n",
      "6 : 203042\n",
      "7 : 7114\n",
      "8 : 148370\n",
      "9 : 210682\n",
      "...\n",
      "262144 : 1234\n",
      "262145 : 233786\n",
      "262146 : 99778\n"
     ]
    }
   ],
   "source": [
    "a = 9749\n",
    "b = 0\n",
    "c = 262144\n",
    "z = 1234\n",
    "\n",
    "def rand():\n",
    "    global z\n",
    "    z = (a * z + b) % c\n",
    "    return z\n",
    "\n",
    "print(\"0 :\",z)\n",
    "for i in range(1,10):\n",
    "    print(i,\":\",rand())\n",
    "for _ in range(c-10):\n",
    "    rand()\n",
    "print(\"...\")\n",
    "print(c,\":\",rand())\n",
    "print(c+1,\":\",rand())\n",
    "print(c+2,\":\",rand())"
   ]
  },
  {
   "cell_type": "markdown",
   "metadata": {},
   "source": [
    "Die Wahl der Konstanten $a$, $b$ und $c$ ist entscheidend für die *Güte des Zufallsgenerators*. Die Konstante $c$ gibt an wieviele verschiedene Zufallszahlen überhaupt möglich sind. Die möglichen Zufallszahlen sind $[0,c[$. Ein weiteres Gütemerkmal ist die *Periodenlänge*, also die Anzahl der Folgenglieder bis sich eine Zahl wiederholt. Diese kann maximiert werden indem ein $b$ gewählt wird, das zu $c$ teilerfremd ist, jeder Primfaktor von $c$ ein Teiler von $a-1$ ist und wenn $c$ durch 4 teilbar ist, auch $a-1$ durch 4 teilbar ist. Für die im Programmierbeispiel verwendeten Konstanten ist das der Fall.\n",
    "\n",
    "Wiederholtes Ausführen mit gleichem $z_0$ wird stets die gleiche Folge von Zahlen generieren. Aus diesem Grund wird bei Zufallsgeneratoren in regelmäßigen Abständen oder auch manuell ein neues $z_o$ festgelegt. In Python gibt es dafür das Sprachelement `random.seed()`. Eine bewährte Praxis ist es, die Systemzeit als sogenanntes *Seed* (Samen; Startwert) zu verwenden."
   ]
  },
  {
   "cell_type": "code",
   "execution_count": 138,
   "metadata": {},
   "outputs": [
    {
     "name": "stdout",
     "output_type": "stream",
     "text": [
      "0 : 1578222872196\n",
      "1 : 229588\n",
      "2 : 67940\n",
      "3 : 171316\n",
      "4 : 40260\n",
      "5 : 65172\n",
      "6 : 186916\n",
      "7 : 81140\n",
      "8 : 145412\n",
      "9 : 208980\n"
     ]
    }
   ],
   "source": [
    "import time\n",
    "z = int(round(time.time() * 1000))\n",
    "print(\"0 :\",z)\n",
    "for i in range(1,10):\n",
    "    print(i,\":\",rand())"
   ]
  },
  {
   "cell_type": "markdown",
   "metadata": {},
   "source": [
    "## Las Vegas, Monte Carlo und Atlantic City\n",
    "\n",
    "Die für das Glückspiel (der Zufall lässt grüßen) bekannten Städte sind Namensgeber für ein paar bestimmte Typen von probabilistischen Algorithmen. \n",
    "\n",
    "*Las Vegas Algorithmen* liefern niemals falsche Ergebnisse und tun das mit einer gewissen Wahrscheinlichkeit auch schnell. Manchmal geraten sie allerdings in Sackgassen und liefern kein Resultat.\n",
    "\n",
    "Im Gegenzug sind *Monte Carlo Algorithmen* immer schnell. Deren Ergebnisse sind aber möglicherweise falsch. \n",
    "\n",
    "*Atlantic City Algorithmen* sind ein Kompromiss dieser beiden Typen. Sie sind fast immer schnell und liefern fast immer ein korrektes Ergebnis. Da der Entwurf von Atlantic City Algorithmen sehr schwierig ist, gibt es nur wenige.\n",
    "\n",
    "### Quicksort\n",
    "Das typische Beispiel für einen **Las Vegas Algorithmus** erhält man durch Anpassung des Quicksort-Algorithmus. Normalerweise wird hier als Pivot-Element einfach das erste Element der zu sortierenden Liste verwendet. Ist die Liste aber bereits sortiert, führt dieses Verhalten zwangsläufig zur Worst-Case-Laufzeit von $\\mathcal{O}(n^2)$. Im mittleren Fall wird $\\mathcal{O}(n\\log n)$ erzielt. \n",
    "\n",
    "Wird das Pivot-Element dagegen zufällig ausgewählt, ändert sich etwas. Die Wahrscheinlichkeit ist gering, dass dabei immer das kleinste Element ausgewählt wird. In der Praxis kommen sortierte oder teilsortiere Liste öfter vor, sodass die o.g. Auswahlwahrscheinlichkeit gegenüber der Sortiertwahrscheinlichkeit eher gering. \n",
    "\n",
    "Somit ist das Las-Vegas-Quicksort mit einer hohen Wahrscheinlichkeit schneller als das Standard-Quicksort, d.h. im Allgmeinen wird sich $\\mathcal{O}(n\\log n)$ ergeben."
   ]
  },
  {
   "cell_type": "code",
   "execution_count": 139,
   "metadata": {},
   "outputs": [
    {
     "name": "stdout",
     "output_type": "stream",
     "text": [
      "[1, 2, 3, 4, 5, 7, 8]\n",
      "Calls: 11\n"
     ]
    }
   ],
   "source": [
    "import random\n",
    "n = 0\n",
    "def quicksortLasVegas(lst):\n",
    "    global n\n",
    "    n += 1\n",
    "    if len(lst) < 2:\n",
    "        return lst\n",
    "    pivot = random.choice(lst) # zufällige Auswahl eines Elements\n",
    "    #pivot = lst[0]\n",
    "    smaller = []\n",
    "    equal = []\n",
    "    larger = []\n",
    "    for i in range(0, len(lst)):\n",
    "        if lst[i] < pivot:\n",
    "            smaller.append(lst[i])\n",
    "        elif lst[i] > pivot:\n",
    "            larger.append(lst[i])\n",
    "        else:\n",
    "            equal.append(lst[i])\n",
    "    return quicksortLasVegas(smaller) + equal + quicksortLasVegas(larger)\n",
    "\n",
    "print(quicksortLasVegas([1, 2, 3, 4, 5, 7, 8]))\n",
    "print(\"Calls:\", n)"
   ]
  },
  {
   "cell_type": "markdown",
   "metadata": {},
   "source": [
    "Trotz der Zufälligkeit, mit der das Pivot-Element in der entsprechenden Liste ausgewählt wird, handelt es sich um ein *deterministisches* und *determiniertes* Verfahren.\n",
    "\n",
    "*Deterministisch*, da in jedem Schritt die als nächste auszuführende Anweisung feststeht (und nicht zufallsgesteuert bestimmt wird). \n",
    "Hinweis: Gäbe es für einen Systemzustand mehr als einen möglichen Folgezustand, würde es sich um ein nichtdeterministisches Verfahren handeln.\n",
    "\n",
    "*Determiniert*, da das Verfahren bei gleichen Eingaben stets das gleiche Ergebnis erzeugt.\n",
    "\n",
    "Ein determiniertes Verfahren kann deterministisch oder nichtdeterministisch sein. Ein nichtdeterminiertes Verfahren kann nicht deterministisch sein."
   ]
  },
  {
   "cell_type": "markdown",
   "metadata": {},
   "source": [
    "### Äquivalenz zweier Multimengen\n",
    "\n",
    "Wir betrachten Multimengen (Listen ohne Beachtung der Elementreihenfolge) $M_A$ und $M_B$, die $n$ natürliche Zahlen enthalten. Für zwei Multimengen kann man feststellen, ob sie äquivalent sind, d.h. genau die gleichen Elemente enthalten, indem diese zunächst sortiert und dann elementweise verglichen werden. Im Mittel benötigt eine solche Sortierung eine Laufzeit von $\\mathcal{O}(n\\log n)$. Für die vollständige Prüfung ergibt das im average case $\\mathcal{O}(n+2n\\log n)$: $\\mathcal{O}(2n\\log n)$ entfällt auf die Sortierung der beiden Multimengen und $\\mathcal{O}(n)$ wird für die sich anschließende Zählschleife (zum elementweisen Vergleich) benötigt. Der Gesamtaufwand beträgt also $\\mathcal{O}(n\\log n)$."
   ]
  },
  {
   "cell_type": "code",
   "execution_count": 140,
   "metadata": {},
   "outputs": [
    {
     "name": "stdout",
     "output_type": "stream",
     "text": [
      "True\n"
     ]
    }
   ],
   "source": [
    "A = [1, 2, 2, 3, 4, 5, 7, 8]\n",
    "B = [8, 2, 4, 1, 7, 5, 2, 3]\n",
    "\n",
    "def containsSame(a, b):\n",
    "    if len(a) != len(b):\n",
    "        return False\n",
    "    a = quicksortLasVegas(a)\n",
    "    b = quicksortLasVegas(b)\n",
    "    for i in range(len(a)):\n",
    "        if a[i] != b[i]:\n",
    "            return False\n",
    "    return True\n",
    "    \n",
    "print(containsSame(A,B))"
   ]
  },
  {
   "cell_type": "markdown",
   "metadata": {},
   "source": [
    "Ein **Monte Carlo Algorithmus** kann das sehr viel effizienter, jedoch mit der Einschränkung, dass er sich manchmal irrt, d.h. das Ergebnis mit einer gewissen Wahrscheinlichkeit nicht stimmt.\n",
    "\n",
    "Wir bilden für die beiden Multimengen $M_A=\\{a_1,a_2,\\ldots,a_n\\}$ und $M_B=\\{b_1,b_2,\\ldots,b_n\\}$ die folgenden Polynome:\n",
    "\n",
    "$$\n",
    "p_A(x) = (x-a_1)\\cdot(x-a_2)\\cdot\\ldots\\cdot(x-a_n)\\\\\n",
    "p_B(x) = (x-b_1)\\cdot(x-b_2)\\cdot\\ldots\\cdot(x-b_n)\n",
    "$$\n",
    "\n",
    "Diese Darstellung ist für jede ganzrationale Zahl eindeutig. Die Multimengenelemente sind gerade die (evtl. mehrfachen) Nullstellen des jeweiligen Polynoms, sodass $p_A(x)=p_B(x)=0$ für $x=a_1,a_2,\\ldots,a_n,b_1,b_2,\\ldots,b_n$ gilt. Außerdem kann es Werte für $x$ geben, die die Forderung $p_A(x)=p_B(x)\\neq 0$ erfüllen, obwohl die zugehörigen Multimengen nicht äquivalent sind. \n",
    "\n",
    "$$\n",
    "p_A(x) = (x-1)(x-2)(x-4)(x-5)\\\\\n",
    "p_B(x) = (x-7)(x-2)(x-4)(x-2)\\\\\n",
    "p_A(2) = 0 = p_B(2)\\\\\n",
    "p_A(3) = 4 = p_B(3)\n",
    "$$\n",
    "\n",
    "Für die Prüfung auf Äquivalenz reichen einzelne $x$-Treffer also nicht aus. Es gilt\n",
    "\n",
    "#### Satz:\n",
    "$M_A\\equiv M_B\\text{ gdw. }p_A(x)=p_B(x)\\text{ für alle } x\\in\\mathcal{N}$.\n",
    "\n",
    "Auf dieser Basis soll nun ein MC-Algorithmus entworfen werden: Sobald für eines der zufällig gewählen $x$ gilt $p_A(x)\\neq p_B(x)$, sind die beiden Multimengen *mit Sicherheit* nicht äquivalent. Anderenfalls sind sie *vielleicht* äquivalent.\n",
    "\n",
    "Man kann aber die Treffsicherheit des Verfahrens erhöhen, indem der Algorithmus mit verschiedenen $x$ mehrfach ausgeführt wird. Es wird empfohlen mit relativ kleinem $|S|$, d.h. $x$ zufällig aus $S=\\{1,2,3,\\ldots,2n\\}$, zu arbeiten und dafür die Zahl der Wiederholungen (etwas) zu vergrößern. In folgendem Beispiel reichen $5$ Wiederholungen aus, um festzustellen, dass die beiden Multimengen nicht äquivalent sind.\n",
    "\n",
    "Damit arbeitet das Verfahren mit linearem Aufwand, d.h. in $\\mathcal{O}(1)$, zum Preis, dass es sich manchmal irrt."
   ]
  },
  {
   "cell_type": "code",
   "execution_count": 141,
   "metadata": {
    "scrolled": true
   },
   "outputs": [
    {
     "name": "stdout",
     "output_type": "stream",
     "text": [
      "presumably Yes\n",
      "presumably Yes\n",
      "No\n"
     ]
    }
   ],
   "source": [
    "A = [1, 2, 2, 3, 4, 5, 7, 8]\n",
    "B = [8, 2, 4, 1, 7, 5, 2, 3]\n",
    "\n",
    "A = [1,2,4,5]   # ...\n",
    "B = [7,2,4,2]   # ...\n",
    "\n",
    "def containsSameMonteCarlo(a, b, maxX):\n",
    "    if len(a) != len(b):\n",
    "        return False\n",
    "    x = random.randint(1,maxX)\n",
    "    ax = 1\n",
    "    bx = 1\n",
    "    for i in range(len(a)):\n",
    "        ax *= x-a[i]\n",
    "        bx *= x-b[i]   \n",
    "    return False if ax != bx else True\n",
    "\n",
    "for _ in range(5):\n",
    "    if containsSameMonteCarlo(A,B,8):\n",
    "        print('presumably Yes')\n",
    "    else:\n",
    "        print('No')\n",
    "        break"
   ]
  },
  {
   "cell_type": "markdown",
   "metadata": {},
   "source": [
    "Das oben vorgestellte Verfahren wird beispielsweise in der Kriminalistik zum Vergleich von Fingerabdrücken angewandt."
   ]
  },
  {
   "cell_type": "markdown",
   "metadata": {},
   "source": [
    "### FERMAT-scher Primzahltest\n",
    "\n",
    "Auf der Basis des \"kleinen Satzes von FERMAT\" lässt sich ein sehr praktikables Monte-Carlo-Verfahren zur Primzahlbestimmung entwickeln. \n",
    "\n",
    "#### Satz (FERMAT):\n",
    "Für jede Primzahl $p$ und jede natürliche Zahl $a$ mit $1<a<p$ ist die Kongruenz $a^{p-1}\\equiv 1\\bmod p$ erfüllt.\n",
    "\n",
    "#### Beweis:\n",
    "als ÜA\n",
    "\n",
    "#### Satz in Wenn-Dann-Form\n",
    "*Wenn* $n$ eine Primzahl ist, *dann* gilt $a^{n-1}\\equiv 1\\bmod n$ für jede natürliche Zahl $a$ mit $1<a<p$.\n",
    "\n",
    "In der Wenn-Dann-Form kann man die Implikation gut erkennen. Eine Äquivalenz (gdw) ist es nicht. Das bedeutet, dass es natürliche Zahlen geben kann, die den sog. FERMAT-Test bestehen und trotzdem keine Primzahlen sind. Man nennt sie *Carmichael* Zahlen. Bis $10000$ gibt es nur sieben solcher \"Pseudoprimzahlen\": $561, 1105, 1729, 2465, 2821, 6601, 8911$.\n",
    "\n",
    "Wir arbeiten nun mit dem obigen Satz in Wenn-Dann-Form weiter und wenden prädikatenlogische Umformungsregeln an:\n",
    "\n",
    "$$\n",
    "A\\rightarrow B \\Leftrightarrow \\lnot B\\rightarrow \\lnot A\\\\\n",
    "\\lnot(\\forall x: C(x)) \\Leftrightarrow \\exists x: \\lnot C(x)\n",
    "$$\n",
    "\n",
    "#### Satz:\n",
    "*Wenn* es (mind.) eine natürliche Zahl $a$ mit $1<a<n$ gibt, die $a^{n-1}\\not\\equiv 1\\bmod n$ erfüllt, *dann* ist $n$ eine zusammengesetzte Zahl (keine Primzahl).\n",
    "\n",
    "**Bemerkung**: Definitionsgemäß sind $a$ mit $1<a<n$ und $n$ teilerfremd, wenn $n$ eine Primzahl ist. Primzahlen haben keine Teiler außer sich selbst und $1$. \n",
    "\n",
    "#### Beweis: \n",
    "Aus dem kleinen Satz von FERMAT unter Anwendung der o.g. Umformungsregeln aus der Prädikatenlogik:<br/>\n",
    "$A$: $n$ ist Primzahl<br/>\n",
    "$B$: jede natürliche Zahl $a$ mit $1<a<p$ erfüllt $a^{n-1}\\equiv 1\\bmod n$<br/>\n",
    "$\\lnot A$: $n$ ist keine Primzahl<br/>\n",
    "$\\lnot B$: Es gibt eine natürliche Zahl $a$ mit $1<a<n$, die $a^{n-1}\\equiv 1\\bmod n$ nicht erfüllt.\n",
    "\n",
    "Wir können nun einen MC-Algorithmus für die Primzahlbestimmung formulieren. Die Eingaben sind $n$ und eine Anzahl von Wiederholungen, die die Treffsicherheit des MC-Algorithmus' erhöhen sollen.\n",
    "\n",
    "1. Wenn $n=2$, dann handelt es sich lt. Def. um eine Primzahl, d.h. das Ergebnis ist `True`. \n",
    "2. Wenn $n$ gerade, ist $n$ keine Primzahl, d.h. das Ergebnis lautet `False`.\n",
    "3. Wähle (zufällig) ein $a$ mit $1<a<n$.<br>\n",
    "Wenn dieses $a$ und $n$ nicht teilerfremd sind,<br>\n",
    "dann kann $n$ keine Primzahl sein und das Ergebnis heißt `False`,<br>\n",
    "sonst wenn $a^{n-1}\\not\\equiv 1\\bmod n$, dann heißt das Ergebnis `False`.<br>\n",
    "Schritt 3 mehrfach ausführen! \n",
    "4. Das Ergebnis heißt (vermutlich) `True`."
   ]
  },
  {
   "cell_type": "code",
   "execution_count": 142,
   "metadata": {},
   "outputs": [
    {
     "name": "stdout",
     "output_type": "stream",
     "text": [
      "True\n"
     ]
    }
   ],
   "source": [
    "def fermat_test(n, rep):\n",
    "    if n == 2:\n",
    "        return True\n",
    "    if n % 2 == 0:\n",
    "        return False\n",
    "    for i in range(rep):\n",
    "        a = random.randint(2, n-1)\n",
    "        if math.gcd(a,n) > 1:\n",
    "            return False\n",
    "        if pow(a, n-1, n) != 1:\n",
    "            return False\n",
    "    return True\n",
    "\n",
    "print(fermat_test(8911,8))\n"
   ]
  },
  {
   "cell_type": "markdown",
   "metadata": {},
   "source": [
    "Schon $8$ Wiederholungen reichen aus, damit sich dieses Programm für die Carmichael-Zahl $8911$ fast nicht irrt und (meist) das korrekte Ergebnis, nämlich `False`, berechnet."
   ]
  },
  {
   "cell_type": "markdown",
   "metadata": {},
   "source": [
    "### Primzahltest von Solovay und Strassen\n",
    "Ein weiteres MC-Verfahren zum Test von Primzahlen beruht ebenfalls auf dem kleinen Satz von FERMAT und verwendet das <a href=\"https://en.wikipedia.org/wiki/Jacobi_symbol\">Jacobi-Symbol</a> (aus der Zahlentheorie). \n",
    "\n",
    "#### Satz:\n",
    "Wenn $n$ eine Primzahl ist, dann gilt für alle natürlichen Zahlen $a$ mit $1<a<n$ und $ggt(a,n)=1$ die Kongruenz $\\mathcal{J}(a,n)\\equiv a^\\frac{n-1}{2}\\bmod n$.\n",
    "\n",
    "$\\mathcal{J}(a,n)$ kann nur die Werte $+1$ und $-1$ annehmen.\n"
   ]
  },
  {
   "cell_type": "code",
   "execution_count": 143,
   "metadata": {},
   "outputs": [
    {
     "name": "stdout",
     "output_type": "stream",
     "text": [
      "15 is composite\n",
      "13 is prime\n"
     ]
    }
   ],
   "source": [
    "def modulo(base, exponent, mod):  \n",
    "    x = 1;  \n",
    "    y = base;  \n",
    "    while (exponent > 0):  \n",
    "        if (exponent % 2 == 1):  \n",
    "            x = (x * y) % mod;  \n",
    "  \n",
    "        y = (y * y) % mod;  \n",
    "        exponent = exponent // 2;  \n",
    "  \n",
    "    return x % mod;  \n",
    "  \n",
    "# To calculate Jacobian symbol of a \n",
    "# given number  \n",
    "def calculateJacobian(a, n):  \n",
    "  \n",
    "    if (a == 0):  \n",
    "        return 0;# (0/n) = 0  \n",
    "  \n",
    "    ans = 1;  \n",
    "    if (a < 0):  \n",
    "          \n",
    "        # (a/n) = (-a/n)*(-1/n)  \n",
    "        a = -a;  \n",
    "        if (n % 4 == 3):  \n",
    "          \n",
    "            # (-1/n) = -1 if n = 3 (mod 4)  \n",
    "            ans = -ans;  \n",
    "  \n",
    "    if (a == 1):  \n",
    "        return ans; # (1/n) = 1  \n",
    "  \n",
    "    while (a):  \n",
    "        if (a < 0): \n",
    "              \n",
    "            # (a/n) = (-a/n)*(-1/n)  \n",
    "            a = -a;  \n",
    "            if (n % 4 == 3): \n",
    "                  \n",
    "                # (-1/n) = -1 if n = 3 (mod 4)  \n",
    "                ans = -ans;  \n",
    "  \n",
    "        while (a % 2 == 0):  \n",
    "            a = a // 2;  \n",
    "            if (n % 8 == 3 or n % 8 == 5):  \n",
    "                ans = -ans;  \n",
    "  \n",
    "        # swap  \n",
    "        a, n = n, a;  \n",
    "  \n",
    "        if (a % 4 == 3 and n % 4 == 3):  \n",
    "            ans = -ans;  \n",
    "        a = a % n;  \n",
    "  \n",
    "        if (a > n // 2):  \n",
    "            a = a - n;  \n",
    "  \n",
    "    if (n == 1):  \n",
    "        return ans;  \n",
    "  \n",
    "    return 0;  \n",
    "  \n",
    "# To perform the Solovay- Strassen  \n",
    "# Primality Test  \n",
    "def solovoyStrassen(p, iterations):  \n",
    "  \n",
    "    if (p < 2):  \n",
    "        return False;  \n",
    "    if (p != 2 and p % 2 == 0):  \n",
    "        return False;  \n",
    "  \n",
    "    for i in range(iterations): \n",
    "          \n",
    "        # Generate a random number a  \n",
    "        a = random.randrange(p - 1) + 1;  \n",
    "        jacobian = (p + calculateJacobian(a, p)) % p;  \n",
    "        mod = modulo(a, (p - 1) / 2, p);  \n",
    "  \n",
    "        if (jacobian == 0 or mod != jacobian):  \n",
    "            return False;  \n",
    "  \n",
    "    return True;  \n",
    "  \n",
    "# Driver Code  \n",
    "iterations = 50;  \n",
    "num1 = 15;  \n",
    "num2 = 13;  \n",
    "  \n",
    "if (solovoyStrassen(num1, iterations)):  \n",
    "    print(num1, \"is prime \");  \n",
    "else: \n",
    "    print(num1, \"is composite\");  \n",
    "\n",
    "if (solovoyStrassen(num2, iterations)):  \n",
    "    print(num2, \"is prime\");  \n",
    "else: \n",
    "    print(num2, \"is composite\");  \n",
    "\n",
    "# This code is contributed by mits"
   ]
  },
  {
   "cell_type": "markdown",
   "metadata": {},
   "source": [
    "Den oben angegebenen Code kann man verkürzen, wenn man die in `sympy` definierte `jacobi_symbol`-Funktion verwendet."
   ]
  },
  {
   "cell_type": "code",
   "execution_count": 144,
   "metadata": {},
   "outputs": [
    {
     "name": "stdout",
     "output_type": "stream",
     "text": [
      "-1\n",
      "1\n"
     ]
    }
   ],
   "source": [
    "from sympy.ntheory import jacobi_symbol, legendre_symbol\n",
    "from sympy import Mul, S\n",
    "print(jacobi_symbol(45, 77))\n",
    "print(jacobi_symbol(60, 121))"
   ]
  }
 ],
 "metadata": {
  "kernelspec": {
   "display_name": "Python 3",
   "language": "python",
   "name": "python3"
  },
  "language_info": {
   "codemirror_mode": {
    "name": "ipython",
    "version": 3
   },
   "file_extension": ".py",
   "mimetype": "text/x-python",
   "name": "python",
   "nbconvert_exporter": "python",
   "pygments_lexer": "ipython3",
   "version": "3.7.3"
  }
 },
 "nbformat": 4,
 "nbformat_minor": 2
}
