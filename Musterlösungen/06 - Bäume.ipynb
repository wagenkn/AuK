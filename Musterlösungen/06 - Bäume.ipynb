{
 "cells": [
  {
   "cell_type": "markdown",
   "metadata": {},
   "source": [
    "# Bäume\n",
    "\n",
    "#### 1.\n",
    ">   $$\n",
    "    n(h) = 2^h - 1\n",
    "    $$\n",
    "    \n",
    "#### 2.\n",
    ">   $$\n",
    "    \\begin{align*}\n",
    "    \\text{Annahme: Knoten mit dem kleinsten Element hat ein linkes Kind} \\\\\n",
    "    \\implies \\text{Es gibt einen Knoten, der einen kleineren Wert hat, Widerspruch!}\n",
    "    \\end{align*}\n",
    "    $$\n",
    "    <div style=\"text-align: right; font-size: 24px;\">&#9633;</div>\n",
    "    \n",
    "#### 3.\n",
    ">   a)"
   ]
  },
  {
   "cell_type": "code",
   "execution_count": 10,
   "metadata": {
    "collapsed": true
   },
   "outputs": [],
   "source": [
    "def binary_tree_max(root):\n",
    "    if root is None:\n",
    "        return -float('inf')\n",
    "    return max(root.value, binary_tree_max(root.left), binary_tree_max(root.right))\n",
    "\n",
    "\n",
    "def binary_tree_min(root):\n",
    "    if root is None:\n",
    "        return float('inf')\n",
    "    return min(root.value, binary_tree_min(root.left), binary_tree_min(root.right))\n",
    "\n",
    "\n",
    "def bst_check(root):\n",
    "    if root is None:\n",
    "        return True\n",
    "    return binary_tree_max(root.left) <= root.value <= binary_tree_min(root.right) and bst_check(\n",
    "        root.left) and bst_check(root.right)"
   ]
  },
  {
   "cell_type": "markdown",
   "metadata": {},
   "source": [
    "> b)\n",
    "> $\\mathcal{O}(n)$\n",
    "\n",
    "#### 4.\n",
    ">   a)"
   ]
  },
  {
   "cell_type": "code",
   "execution_count": 11,
   "metadata": {
    "collapsed": true
   },
   "outputs": [],
   "source": [
    "def bst_invert(root):\n",
    "    if root is None:\n",
    "        return None\n",
    "    inverted = Node(root.value)\n",
    "    inverted.left = bst_invert(root.right)\n",
    "    inverted.right = bst_invert(root.left)\n",
    "    return inverted"
   ]
  },
  {
   "cell_type": "markdown",
   "metadata": {},
   "source": [
    "> b)\n",
    "> $\\mathcal{O}(n)$\n",
    "\n",
    "#### 5."
   ]
  },
  {
   "cell_type": "code",
   "execution_count": 12,
   "metadata": {
    "collapsed": true
   },
   "outputs": [],
   "source": [
    "def height(root):\n",
    "    if root is None:\n",
    "        return -1\n",
    "    return max(height(root.left), height(root.right)) + 1\n",
    "\n",
    "\n",
    "def balanced(root):\n",
    "    if root is None:\n",
    "        return True\n",
    "    return abs(height(root.left) - height(root.right)) <= 1 and balanced(root.left) and balanced(root.right)"
   ]
  }
 ],
 "metadata": {
  "kernelspec": {
   "display_name": "Python 3",
   "language": "python",
   "name": "python3"
  },
  "language_info": {
   "codemirror_mode": {
    "name": "ipython",
    "version": 3
   },
   "file_extension": ".py",
   "mimetype": "text/x-python",
   "name": "python",
   "nbconvert_exporter": "python",
   "pygments_lexer": "ipython3",
   "version": "3.7.3"
  }
 },
 "nbformat": 4,
 "nbformat_minor": 2
}
