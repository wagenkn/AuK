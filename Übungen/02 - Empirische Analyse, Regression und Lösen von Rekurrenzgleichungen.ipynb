{
 "cells": [
  {
   "cell_type": "markdown",
   "metadata": {},
   "source": [
    "# Empirische Analyse, Regression, Rekurrenzgleichungen\n",
    "\n",
    "#### 1. Betrachten Sie den Algorithmus build_max_heap als Blackbox:"
   ]
  },
  {
   "cell_type": "code",
   "execution_count": 1,
   "metadata": {
    "collapsed": true
   },
   "outputs": [],
   "source": [
    "def max_heapify(heap, i):\n",
    "    if i < len(heap)/2:\n",
    "        if heap[2*i-1] > heap[i-1] and heap[2*i-1] > heap[2*i]:\n",
    "            heap[i-1], heap[2*i-1] = heap[2*i-1], heap[i-1]\n",
    "            return max_heapify(heap, 2*i)\n",
    "        elif heap[2*i] > heap[i-1]:\n",
    "            heap[i-1], heap[2*i] = heap[2*i], heap[i-1]\n",
    "            return max_heapify(heap, 2*i+1)\n",
    "    return heap\n",
    "\n",
    "\n",
    "def build_max_heap(arr):\n",
    "    for i in reversed(range(1, int(len(arr)/2) + 1)):\n",
    "        arr = max_heapify(arr, i)\n",
    "    return arr"
   ]
  },
  {
   "cell_type": "markdown",
   "metadata": {},
   "source": [
    "> a) Die Funktion *build_max_heap* nimmt ein Array entgegen. Messen Sie die Zeit, die der Algorithmus für verschiedene Problemgrößen benötigt. Die Problemgröße $n$ ist die Länge des Arrays. Wählen Sie hierfür $n$ groß genug, um ein repräsentatives Ergebnis zu bekommen.\n",
    "\n",
    "> b) Schreiben Sie ein Python Programm, mit dem Sie aus den Werten aus Aufgabe a eine lineare Regressionsgerade ermitteln.\n",
    "\n",
    "> c) Ermitteln Sie nun per Code den Korrelationkoeffizienten. Stellen Sie anhand diesem eine Vermutung auf, ob es sich bei dem gegebenen Algorithmus um einen Linearzeitalgorithmus handelt.\n",
    "\n",
    "#### 2. Vereinfachen Sie mit Hilfe der gewöhnlichen Rechenregeln für den Logarithmus und für das Potenzieren, den Ausdruck $2^{\\log_4 n}$ so weit wie möglich.\n",
    "\n",
    "#### 3. Lösen Sie folgende Bildungsvorschrift mit Hilfe der Iterationsmethode:\n",
    "\n",
    ">   $$\n",
    "    \\begin{align*}\n",
    "    T(1) &= 1 \\\\\n",
    "    T(n) &= n + 3 \\cdot T \\left(\\frac{n}{4} \\right), \\text{für } n = 4^k , k \\in \\mathbb{N}\n",
    "    \\end{align*}\n",
    "    $$\n",
    "    \n",
    "#### 4. Der Algorithmus Mergesort, welcher zum Sortieren von Listen verwendet wird, arbeitet mit folgendem Zeitaufwand:\n",
    "\n",
    ">   $$\n",
    "    \\begin{align*}\n",
    "    T(0) &= 1 \\\\\n",
    "    T(1) &= 1 \\\\\n",
    "    T(n) &= 2 \\cdot T \\left(\\frac{n}{2} \\right) + \\mathcal{O}(n) \\\\\n",
    "    \\end{align*}\n",
    "    $$\n",
    "\n",
    ">  Lösen Sie diese Vorschrift mit Hilfe der Meistermethode auf.\n",
    "     \n",
    "#### 5. Nehmen wir an, ein Algorithmus löst ein Problem der Größe $n$, indem er es rekursiv in höchstens $A \\cdot \\sqrt{n}$ Zeit auf zwei Probleme der gleichen Art der Größe jeweils $\\frac{n}{4}$ zurückführt. Geben Sie die asymptotische Laufzeit $T(n)$ an.\n",
    "\n",
    "#### 6. Für die Berechnung der Fibonacci Zahlen lässt sich für die Rechenzeit folgende rekursive Vorschrift aufstellen:\n",
    "\n",
    ">   $$\n",
    "    \\begin{align*}\n",
    "    T(0) &= 1 \\\\\n",
    "    T(1) &= 1 \\\\\n",
    "    T(n) &= T(n-1) + T(n-2) + 1 \\\\\n",
    "    \\end{align*}\n",
    "    $$\n",
    "    \n",
    ">   Geben Sie unter Verwendung der $\\Omega$-Notation einen rekursionfreien Ausdruck für $T(n)$ an."
   ]
  }
 ],
 "metadata": {
  "kernelspec": {
   "display_name": "Python 3",
   "language": "python",
   "name": "python3"
  },
  "language_info": {
   "codemirror_mode": {
    "name": "ipython",
    "version": 3
   },
   "file_extension": ".py",
   "mimetype": "text/x-python",
   "name": "python",
   "nbconvert_exporter": "python",
   "pygments_lexer": "ipython3",
   "version": "3.7.3"
  }
 },
 "nbformat": 4,
 "nbformat_minor": 2
}
