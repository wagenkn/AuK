{
 "cells": [
  {
   "cell_type": "markdown",
   "metadata": {},
   "source": [
    "# Amortisierte Analyse\n",
    "\n",
    "<!--\n",
    "#### 1. Im folgenden wird eine Operation auf einer Datenstruktur betrachtet. $b(n)$ stellt die best-case Laufzeit dieser Operation dar, $w(n)$ die worst-case Laufzeit und $a(n)$ die amortisierte Laufzeit. Bestimmen Sie, ob folgende Aussagen wahr sind.\n",
    ">   a)\n",
    "    $a(n) \\in \\mathcal{o}(w(n))$   \n",
    ">   b)\n",
    "    $a(n) \\in \\mathcal{O}(w(n))$    \n",
    ">   c)\n",
    "    $a(n) \\in \\Omega(b(n))$    \n",
    ">   d)\n",
    "    $a(n) \\in \\omega(b(n))$    \n",
    ">   e)\n",
    "    $b(n) \\in \\mathcal{o}(w(n))$    \n",
    ">   f)\n",
    "    Die amortisierten Kosten stellen so etwas wie das arithmetische Mittel der Kosten dar. Die Kosten einer Operation sind amortisiert $\\mathcal{O}(f(n))$, wenn die Kosten für $n$ Operationen in $\\mathcal{O}(n \\cdot f(n))$ liegen.\n",
    "-->\n",
    "\n",
    "#### 1. Queue unter Verwendung zweier Stacks\n",
    "\n",
    ">   a)\n",
    "    Implementieren Sie eine Queue unter der Verwendung von zwei Stacks.\n",
    "    \n",
    ">   b)\n",
    "    Was ist der worst-case Zeitaufwand der *dequeue*-Operation?\n",
    "    \n",
    ">   c)\n",
    "    Finden Sie eine geeignete Potenzialfunktion und zeigen Sie, dass die amortisierten Kosten der *dequeue*-Operation $\\mathcal{O}(1)$ betragen. \n",
    ">   __Hinweis:__ Nehmen Sie dabei an, dass die Größe der Datenstruktur auf $k$ Elemente beschränkt ist.\n",
    "\n",
    "#### 2. Stack mit Multipop\n",
    "\n",
    ">   a)\n",
    "    Es sei ein Stack mit den Operation __push(x)__, __pop()__ und __multipop(k)__ gegeben. __push(x)__ legt das Element $x$ auf den top of stack, __pop()__ gibt das oberste Element zurück und __multipop(k)__ gibt die obersten $k$ Elemente zurück. Bestimmen Sie die worst-case Zeitkomplexitäten dieser drei Operationen.\n",
    "    \n",
    ">   b)\n",
    "    Zeigen Sie, dass die amortisierten Kosten aller dieser drei Operationen in $\\mathcal{O}(1)$ liegen.\n",
    "    \n",
    "#### 3. Anagramm-Prüfer\n",
    "\n",
    "Schreibt man einen längeren Text, so schleichen sich Schreibfehler ein. \"Buchstabendreher\" sind ein typisches Beispiel. Sie werden auch als *Anagramme* bezeichnet.\n",
    "\n",
    "Als **Anagramm** (von griechisch ἀναγράφειν anagráphein ‚umschreiben‘) wird eine Buchstabenfolge bezeichnet, die aus einer anderen Buchstabenfolge allein durch Umstellung der Buchstaben gebildet ist.\n",
    "\n",
    "Gegeben sei das Alphabet $A=\\{a_1,a_2,\\ldots,a_m\\}$. Beliebige Folgen aus $n$ (nicht notwendig verschiedener) Alphabetzeichen nennt man Wörter $w$. Die Wortlänge von $w$ ist die Anzahl der in $w$ verwendeten Alphabetzeichen: $|w|=n$, $n\\in\\mathbb{N}$. $n$ kann also gleich $0$ (leeres Wort) oder auch größer als $m$ sein.\n",
    "\n",
    "Eine Prozedur `anagramm?` nimmt zwei Wörter $x$ und $y$ und liefert `True`, wenn $y$ ein Anagramm für $x$ ist, anderenfalls `False`. Sofort ist klar, dass $x$ und $y$ die gleiche Länge haben müssen, d.h. $|x|=|y|$. Das reicht aber noch nicht aus!\n",
    "\n",
    "Entwickeln Sie verschiedene Programme, die die Anagramm-Prüfung vornehmen. Bestimmen Sie deren Effizienz mit Hilfe der klassischen worst-case-Analyse mit dem $\\mathcal{O}$-Kalkül.\n",
    "\n",
    "\n"
   ]
  }
 ],
 "metadata": {
  "kernelspec": {
   "display_name": "Python 3",
   "language": "python",
   "name": "python3"
  },
  "language_info": {
   "codemirror_mode": {
    "name": "ipython",
    "version": 3
   },
   "file_extension": ".py",
   "mimetype": "text/x-python",
   "name": "python",
   "nbconvert_exporter": "python",
   "pygments_lexer": "ipython3",
   "version": "3.7.3"
  }
 },
 "nbformat": 4,
 "nbformat_minor": 2
}
