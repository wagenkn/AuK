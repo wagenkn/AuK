{
 "cells": [
  {
   "cell_type": "markdown",
   "metadata": {},
   "source": [
    "# Amortisierte Analyse\n",
    "\n",
    "#### 1. Im folgenden wird eine Operation auf einer Datenstruktur betrachtet. $b(n)$ stellt die best-case Laufzeit dieser Operation dar, $w(n)$ die worst-case Laufzeit und $a(n)$ die amortisierte Laufzeit. Bestimmen Sie, ob folgende Aussagen wahr sind.\n",
    "\n",
    ">   a)\n",
    "    $a(n) \\in \\mathcal{o}(w(n))$\n",
    "    \n",
    ">   b)\n",
    "    $a(n) \\in \\mathcal{O}(w(n))$\n",
    "    \n",
    ">   c)\n",
    "    $a(n) \\in \\Omega(b(n))$\n",
    "    \n",
    ">   d)\n",
    "    $a(n) \\in \\omega(b(n))$\n",
    "    \n",
    ">   e)\n",
    "    $b(n) \\in \\mathcal{o}(w(n))$\n",
    "    \n",
    ">   f)\n",
    "    Die amortisierten Kosten stellen so etwas wie das arithmetische Mittel der Kosten dar. Die Kosten einer Operation sind amortisiert $\\mathcal{O}(f(n))$, wenn die Kosten für $n$ Operationen in $\\mathcal{O}(n \\cdot f(n))$ liegen.\n",
    "\n",
    "#### 2. Queue unter der Nutzung von 2 Stacks\n",
    "\n",
    ">   a)\n",
    "    Implementieren Sie eine Queue unter der Nutzung von 2 Stacks.\n",
    "    \n",
    ">   b)\n",
    "    Was ist der worst-case Zeitaufwand der *dequeue*-Operation?\n",
    "    \n",
    ">   c)\n",
    "    Finden Sie eine geeignete Potenzialfunktion und zeigen Sie, dass die amortisierten Kosten der *dequeue*-Operation $\\mathcal{O}(1)$ betragen. \n",
    ">   __Hinweis:__ Nehmen Sie dabei an, dass die Größe der Datenstruktur auf $k$ Elemente beschränkt ist.\n",
    "\n",
    "#### 3. Stack mit Multipop\n",
    "\n",
    ">   a)\n",
    "    Es sei ein Stack mit den Operation __push(x)__, __pop()__ und __multipop(k)__ gegeben. __push(x)__ legt das Element $x$ auf den top of stack, __pop()__ gibt das oberste Element zurück und __multipop(k)__ gibt die obersten $k$ Elemente zurück. Bestimmen Sie die worst-case Zeitkomplexitäten dieser drei Operationen.\n",
    "    \n",
    ">   b)\n",
    "    Zeigen Sie, dass die amortisierten Kosten aller dieser drei Operationen in $\\mathcal{O}(1)$ liegen."
   ]
  }
 ],
 "metadata": {
  "kernelspec": {
   "display_name": "Python 3",
   "language": "python",
   "name": "python3"
  },
  "language_info": {
   "codemirror_mode": {
    "name": "ipython",
    "version": 3
   },
   "file_extension": ".py",
   "mimetype": "text/x-python",
   "name": "python",
   "nbconvert_exporter": "python",
   "pygments_lexer": "ipython3",
   "version": "3.7.0"
  }
 },
 "nbformat": 4,
 "nbformat_minor": 2
}
