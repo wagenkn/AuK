{
 "cells": [
  {
   "cell_type": "markdown",
   "metadata": {},
   "source": [
    "# Bäume\n",
    "\n",
    "#### 1. Stellen Sie eine Gleichung auf, die die maximale Anzahl von Elementen in einem Binärbaum in Abhängigkeit von dessen Höhe $h$ angibt.\n",
    "\n",
    "#### 2. Zeigen Sie, dass das kleinste Element in einem Binären Suchbaum kein linkes Kind hat.\n",
    "\n",
    "#### 3. BST - Check\n",
    "\n",
    ">   a)\n",
    "    Implementieren Sie eine Prozedur, die prüft, ob ein gegebener Binärbaum ein Binärer Suchbaum ist.\n",
    "    \n",
    ">   b)\n",
    "    Bestimmen Sie die Laufzeit Ihres Algorithmus\n",
    "\n",
    "#### 4. BST - Invert\n",
    "\n",
    ">   a) \n",
    "    Implementieren Sie eine Prozedur, die einen gegebenen Binären Suchbaum invertiert, d.h. einen aufsteigend sortierten BST absteigend sortiert zurückgibt.\n",
    "    \n",
    ">   b)\n",
    "    Bestimmen Sie die Laufzeit Ihres Algorithmus\n",
    "   \n",
    "#### 5. Implementieren Sie eine Prozedur, die prüft, ob eine gegebener Binärbaum balanciert ist. Ein Binärbaum gilt als balanciert, wenn sich die Höhen der Subbäume an keinem Knoten um mehr als 1 unterscheiden."
   ]
  },
  {
   "cell_type": "markdown",
   "metadata": {},
   "source": [
    "3."
   ]
  },
  {
   "cell_type": "code",
   "execution_count": 10,
   "metadata": {},
   "outputs": [
    {
     "ename": "SyntaxError",
     "evalue": "unexpected EOF while parsing (<ipython-input-10-c9a4558b2339>, line 3)",
     "output_type": "error",
     "traceback": [
      "\u001b[1;36m  File \u001b[1;32m\"<ipython-input-10-c9a4558b2339>\"\u001b[1;36m, line \u001b[1;32m3\u001b[0m\n\u001b[1;33m    \u001b[0m\n\u001b[1;37m    ^\u001b[0m\n\u001b[1;31mSyntaxError\u001b[0m\u001b[1;31m:\u001b[0m unexpected EOF while parsing\n"
     ]
    }
   ],
   "source": [
    "def bst_check(root):\n",
    "    # your code goes here\n",
    "    "
   ]
  },
  {
   "cell_type": "markdown",
   "metadata": {},
   "source": [
    "4."
   ]
  },
  {
   "cell_type": "code",
   "execution_count": null,
   "metadata": {
    "collapsed": true
   },
   "outputs": [],
   "source": [
    "def bst_invert(root):\n",
    "    # your code goes here\n",
    "    "
   ]
  },
  {
   "cell_type": "markdown",
   "metadata": {},
   "source": [
    "5."
   ]
  },
  {
   "cell_type": "code",
   "execution_count": null,
   "metadata": {
    "collapsed": true
   },
   "outputs": [],
   "source": [
    "def balanced(root):\n",
    "    # your code goes here\n",
    "    "
   ]
  }
 ],
 "metadata": {
  "kernelspec": {
   "display_name": "Python 3",
   "language": "python",
   "name": "python3"
  },
  "language_info": {
   "codemirror_mode": {
    "name": "ipython",
    "version": 3
   },
   "file_extension": ".py",
   "mimetype": "text/x-python",
   "name": "python",
   "nbconvert_exporter": "python",
   "pygments_lexer": "ipython3",
   "version": "3.7.3"
  }
 },
 "nbformat": 4,
 "nbformat_minor": 2
}
