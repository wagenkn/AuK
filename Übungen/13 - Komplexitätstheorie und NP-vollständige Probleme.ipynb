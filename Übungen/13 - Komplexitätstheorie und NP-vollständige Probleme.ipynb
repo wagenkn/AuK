{
 "cells": [
  {
   "cell_type": "markdown",
   "metadata": {},
   "source": [
    "# Komplexitätstheorie und NP-vollständige Probleme\n",
    "\n",
    "#### 1. Die folgenden Aussagen sind falsch. Erläutern Sie kurz warum und berichtigen Sie die Aussagen.\n",
    "\n",
    "> a) Um zu zeigen, dass das Problem $X$ NP-vollständig ist, reicht es aus zu zeigen, dass $X$ in NP liegt und $X \\leqslant_p Y$ für ein NP-vollständiges Problem $Y$.\n",
    "\n",
    "> b) Es gibt ein NP-vollständiges Problem $X$, das mit einem effizienten deterministischen Algorithmus in Polynomialzeit gelöst werden kann, auch wenn es keinen deterministischen Polynomialzeit-Algorithmus für das SAT-Problem gibt.\n",
    "\n",
    "> c) Jedes NP-schwere Problem kann in Polynomialzeit auf das SAT-Problem reduziert werden.\n",
    "\n",
    "#### 2. Beweise\n",
    "\n",
    "> a) Zeigen Sie, dass ein Algorithmus, der konstant oft Subroutinen mit polynomiellen Zeitaufwand aufruft, polynomiellen Zeitaufwand hat. *Hinweise*: Eine Subroutine kann eine Subroutine aufrufen. $T(0)$ ist eine Konstante.\n",
    "\n",
    "> b) Zeigen Sie, dass ein Algorithmus, der polynomiell oft Subroutinen mit polynomiellen Zeitaufwand aufruft, exponentiellen Zeitaufwand haben kann.\n",
    "\n",
    "#### 3. Vertex Cover Problem (Knotenbedeckungsproblem)\n",
    "\n",
    "> Beim *Vertex-Cover-Problem* geht es darum in einem Graphen $G = (V, E)$ die kleinste Teilmenge von Knoten zu finden, sodass jede Kante im Graphen mit einem Knoten, der zu dieser Teilmenge gehört, inzidiert.\n",
    "\n",
    "> __Beispiel__:\n",
    "\n",
    "> <img src=\"http://faculty.ycp.edu/~dbabcock/PastCourses/cs360/lectures/images/lecture29/ApproxVert4.png\" width=\"300\">\n",
    "\n",
    "> a) Formulieren Sie dieses Problem als Entscheidungsproblem.\n",
    "\n",
    "> b) Zeigen Sie die NP-Vollständigkeit dieses Problems. Finden Sie dabei eine Reduktion von _Independent Set_ auf _Vertex Cover_."
   ]
  }
 ],
 "metadata": {
  "kernelspec": {
   "display_name": "Python 3",
   "language": "python",
   "name": "python3"
  },
  "language_info": {
   "codemirror_mode": {
    "name": "ipython",
    "version": 3
   },
   "file_extension": ".py",
   "mimetype": "text/x-python",
   "name": "python",
   "nbconvert_exporter": "python",
   "pygments_lexer": "ipython3",
   "version": "3.7.3"
  }
 },
 "nbformat": 4,
 "nbformat_minor": 2
}
